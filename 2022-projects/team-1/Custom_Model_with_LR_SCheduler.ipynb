{
  "cells": [
    {
      "cell_type": "markdown",
      "metadata": {
        "id": "view-in-github",
        "colab_type": "text"
      },
      "source": [
        "<a href=\"https://colab.research.google.com/github/logchambers/REU-Team-1/blob/main/Custom_Model_with_LR_SCheduler.ipynb\" target=\"_parent\"><img src=\"https://colab.research.google.com/assets/colab-badge.svg\" alt=\"Open In Colab\"/></a>"
      ]
    },
    {
      "cell_type": "markdown",
      "metadata": {
        "id": "Y0dsE_PRx43g"
      },
      "source": [
        "Connect to google drive"
      ]
    },
    {
      "cell_type": "code",
      "execution_count": null,
      "metadata": {
        "colab": {
          "base_uri": "https://localhost:8080/"
        },
        "id": "rOfGlTRwvREg",
        "outputId": "a8a2a3c9-3eb9-424e-8da1-70c0a93ce8f3"
      },
      "outputs": [
        {
          "output_type": "stream",
          "name": "stdout",
          "text": [
            "Mounted at /content/drive\n"
          ]
        }
      ],
      "source": [
        "from google.colab import drive\n",
        "drive.mount('/content/drive')"
      ]
    },
    {
      "cell_type": "code",
      "execution_count": null,
      "metadata": {
        "colab": {
          "base_uri": "https://localhost:8080/"
        },
        "id": "XNKk7P6_vUMX",
        "outputId": "d51699d3-1ee9-40f9-bcc7-e14879b83746"
      },
      "outputs": [
        {
          "output_type": "stream",
          "name": "stdout",
          "text": [
            "Looking in indexes: https://pypi.org/simple, https://us-python.pkg.dev/colab-wheels/public/simple/\n",
            "Collecting preprocess\n",
            "  Downloading preprocess-2.0.0-py3-none-any.whl (12 kB)\n",
            "Requirement already satisfied: future in /usr/local/lib/python3.7/dist-packages (from preprocess) (0.16.0)\n",
            "Installing collected packages: preprocess\n",
            "Successfully installed preprocess-2.0.0\n",
            "Looking in indexes: https://pypi.org/simple, https://us-python.pkg.dev/colab-wheels/public/simple/\n",
            "Collecting mxnet-cu101==1.7.0\n",
            "  Downloading mxnet_cu101-1.7.0-py2.py3-none-manylinux2014_x86_64.whl (846.0 MB)\n",
            "\u001b[K     |███████████████████████████████▌| 834.1 MB 1.3 MB/s eta 0:00:09tcmalloc: large alloc 1147494400 bytes == 0x39282000 @  0x7f72e60ca615 0x592b76 0x4df71e 0x59afff 0x515655 0x549576 0x593fce 0x548ae9 0x51566f 0x549576 0x593fce 0x548ae9 0x5127f1 0x598e3b 0x511f68 0x598e3b 0x511f68 0x598e3b 0x511f68 0x4bc98a 0x532e76 0x594b72 0x515600 0x549576 0x593fce 0x548ae9 0x5127f1 0x549576 0x593fce 0x5118f8 0x593dd7\n",
            "\u001b[K     |████████████████████████████████| 846.0 MB 20 kB/s \n",
            "\u001b[?25hRequirement already satisfied: numpy<2.0.0,>1.16.0 in /usr/local/lib/python3.7/dist-packages (from mxnet-cu101==1.7.0) (1.21.6)\n",
            "Collecting graphviz<0.9.0,>=0.8.1\n",
            "  Downloading graphviz-0.8.4-py2.py3-none-any.whl (16 kB)\n",
            "Requirement already satisfied: requests<3,>=2.20.0 in /usr/local/lib/python3.7/dist-packages (from mxnet-cu101==1.7.0) (2.23.0)\n",
            "Requirement already satisfied: chardet<4,>=3.0.2 in /usr/local/lib/python3.7/dist-packages (from requests<3,>=2.20.0->mxnet-cu101==1.7.0) (3.0.4)\n",
            "Requirement already satisfied: idna<3,>=2.5 in /usr/local/lib/python3.7/dist-packages (from requests<3,>=2.20.0->mxnet-cu101==1.7.0) (2.10)\n",
            "Requirement already satisfied: certifi>=2017.4.17 in /usr/local/lib/python3.7/dist-packages (from requests<3,>=2.20.0->mxnet-cu101==1.7.0) (2022.6.15)\n",
            "Requirement already satisfied: urllib3!=1.25.0,!=1.25.1,<1.26,>=1.21.1 in /usr/local/lib/python3.7/dist-packages (from requests<3,>=2.20.0->mxnet-cu101==1.7.0) (1.24.3)\n",
            "Installing collected packages: graphviz, mxnet-cu101\n",
            "  Attempting uninstall: graphviz\n",
            "    Found existing installation: graphviz 0.10.1\n",
            "    Uninstalling graphviz-0.10.1:\n",
            "      Successfully uninstalled graphviz-0.10.1\n",
            "Successfully installed graphviz-0.8.4 mxnet-cu101-1.7.0\n",
            "Looking in indexes: https://pypi.org/simple, https://us-python.pkg.dev/colab-wheels/public/simple/\n",
            "Collecting d2l==1.0.0-alpha0\n",
            "  Downloading d2l-1.0.0a0-py3-none-any.whl (92 kB)\n",
            "\u001b[K     |████████████████████████████████| 92 kB 1.1 MB/s \n",
            "\u001b[?25hRequirement already satisfied: matplotlib in /usr/local/lib/python3.7/dist-packages (from d2l==1.0.0-alpha0) (3.2.2)\n",
            "Requirement already satisfied: requests in /usr/local/lib/python3.7/dist-packages (from d2l==1.0.0-alpha0) (2.23.0)\n",
            "Requirement already satisfied: pandas in /usr/local/lib/python3.7/dist-packages (from d2l==1.0.0-alpha0) (1.3.5)\n",
            "Requirement already satisfied: numpy in /usr/local/lib/python3.7/dist-packages (from d2l==1.0.0-alpha0) (1.21.6)\n",
            "Requirement already satisfied: gym in /usr/local/lib/python3.7/dist-packages (from d2l==1.0.0-alpha0) (0.17.3)\n",
            "Requirement already satisfied: jupyter in /usr/local/lib/python3.7/dist-packages (from d2l==1.0.0-alpha0) (1.0.0)\n",
            "Requirement already satisfied: scipy in /usr/local/lib/python3.7/dist-packages (from gym->d2l==1.0.0-alpha0) (1.7.3)\n",
            "Requirement already satisfied: cloudpickle<1.7.0,>=1.2.0 in /usr/local/lib/python3.7/dist-packages (from gym->d2l==1.0.0-alpha0) (1.3.0)\n",
            "Requirement already satisfied: pyglet<=1.5.0,>=1.4.0 in /usr/local/lib/python3.7/dist-packages (from gym->d2l==1.0.0-alpha0) (1.5.0)\n",
            "Requirement already satisfied: future in /usr/local/lib/python3.7/dist-packages (from pyglet<=1.5.0,>=1.4.0->gym->d2l==1.0.0-alpha0) (0.16.0)\n",
            "Requirement already satisfied: ipywidgets in /usr/local/lib/python3.7/dist-packages (from jupyter->d2l==1.0.0-alpha0) (7.7.1)\n",
            "Requirement already satisfied: ipykernel in /usr/local/lib/python3.7/dist-packages (from jupyter->d2l==1.0.0-alpha0) (4.10.1)\n",
            "Requirement already satisfied: qtconsole in /usr/local/lib/python3.7/dist-packages (from jupyter->d2l==1.0.0-alpha0) (5.3.1)\n",
            "Requirement already satisfied: nbconvert in /usr/local/lib/python3.7/dist-packages (from jupyter->d2l==1.0.0-alpha0) (5.6.1)\n",
            "Requirement already satisfied: jupyter-console in /usr/local/lib/python3.7/dist-packages (from jupyter->d2l==1.0.0-alpha0) (5.2.0)\n",
            "Requirement already satisfied: notebook in /usr/local/lib/python3.7/dist-packages (from jupyter->d2l==1.0.0-alpha0) (5.3.1)\n",
            "Requirement already satisfied: tornado>=4.0 in /usr/local/lib/python3.7/dist-packages (from ipykernel->jupyter->d2l==1.0.0-alpha0) (5.1.1)\n",
            "Requirement already satisfied: ipython>=4.0.0 in /usr/local/lib/python3.7/dist-packages (from ipykernel->jupyter->d2l==1.0.0-alpha0) (5.5.0)\n",
            "Requirement already satisfied: jupyter-client in /usr/local/lib/python3.7/dist-packages (from ipykernel->jupyter->d2l==1.0.0-alpha0) (5.3.5)\n",
            "Requirement already satisfied: traitlets>=4.1.0 in /usr/local/lib/python3.7/dist-packages (from ipykernel->jupyter->d2l==1.0.0-alpha0) (5.1.1)\n",
            "Requirement already satisfied: prompt-toolkit<2.0.0,>=1.0.4 in /usr/local/lib/python3.7/dist-packages (from ipython>=4.0.0->ipykernel->jupyter->d2l==1.0.0-alpha0) (1.0.18)\n",
            "Requirement already satisfied: simplegeneric>0.8 in /usr/local/lib/python3.7/dist-packages (from ipython>=4.0.0->ipykernel->jupyter->d2l==1.0.0-alpha0) (0.8.1)\n",
            "Requirement already satisfied: pygments in /usr/local/lib/python3.7/dist-packages (from ipython>=4.0.0->ipykernel->jupyter->d2l==1.0.0-alpha0) (2.6.1)\n",
            "Requirement already satisfied: pexpect in /usr/local/lib/python3.7/dist-packages (from ipython>=4.0.0->ipykernel->jupyter->d2l==1.0.0-alpha0) (4.8.0)\n",
            "Requirement already satisfied: pickleshare in /usr/local/lib/python3.7/dist-packages (from ipython>=4.0.0->ipykernel->jupyter->d2l==1.0.0-alpha0) (0.7.5)\n",
            "Requirement already satisfied: setuptools>=18.5 in /usr/local/lib/python3.7/dist-packages (from ipython>=4.0.0->ipykernel->jupyter->d2l==1.0.0-alpha0) (57.4.0)\n",
            "Requirement already satisfied: decorator in /usr/local/lib/python3.7/dist-packages (from ipython>=4.0.0->ipykernel->jupyter->d2l==1.0.0-alpha0) (4.4.2)\n",
            "Requirement already satisfied: wcwidth in /usr/local/lib/python3.7/dist-packages (from prompt-toolkit<2.0.0,>=1.0.4->ipython>=4.0.0->ipykernel->jupyter->d2l==1.0.0-alpha0) (0.2.5)\n",
            "Requirement already satisfied: six>=1.9.0 in /usr/local/lib/python3.7/dist-packages (from prompt-toolkit<2.0.0,>=1.0.4->ipython>=4.0.0->ipykernel->jupyter->d2l==1.0.0-alpha0) (1.15.0)\n",
            "Requirement already satisfied: jupyterlab-widgets>=1.0.0 in /usr/local/lib/python3.7/dist-packages (from ipywidgets->jupyter->d2l==1.0.0-alpha0) (1.1.1)\n",
            "Requirement already satisfied: widgetsnbextension~=3.6.0 in /usr/local/lib/python3.7/dist-packages (from ipywidgets->jupyter->d2l==1.0.0-alpha0) (3.6.1)\n",
            "Requirement already satisfied: ipython-genutils~=0.2.0 in /usr/local/lib/python3.7/dist-packages (from ipywidgets->jupyter->d2l==1.0.0-alpha0) (0.2.0)\n",
            "Requirement already satisfied: jinja2 in /usr/local/lib/python3.7/dist-packages (from notebook->jupyter->d2l==1.0.0-alpha0) (2.11.3)\n",
            "Requirement already satisfied: nbformat in /usr/local/lib/python3.7/dist-packages (from notebook->jupyter->d2l==1.0.0-alpha0) (5.4.0)\n",
            "Requirement already satisfied: Send2Trash in /usr/local/lib/python3.7/dist-packages (from notebook->jupyter->d2l==1.0.0-alpha0) (1.8.0)\n",
            "Requirement already satisfied: jupyter-core>=4.4.0 in /usr/local/lib/python3.7/dist-packages (from notebook->jupyter->d2l==1.0.0-alpha0) (4.11.1)\n",
            "Requirement already satisfied: terminado>=0.8.1 in /usr/local/lib/python3.7/dist-packages (from notebook->jupyter->d2l==1.0.0-alpha0) (0.13.3)\n",
            "Requirement already satisfied: python-dateutil>=2.1 in /usr/local/lib/python3.7/dist-packages (from jupyter-client->ipykernel->jupyter->d2l==1.0.0-alpha0) (2.8.2)\n",
            "Requirement already satisfied: pyzmq>=13 in /usr/local/lib/python3.7/dist-packages (from jupyter-client->ipykernel->jupyter->d2l==1.0.0-alpha0) (23.2.0)\n",
            "Requirement already satisfied: ptyprocess in /usr/local/lib/python3.7/dist-packages (from terminado>=0.8.1->notebook->jupyter->d2l==1.0.0-alpha0) (0.7.0)\n",
            "Requirement already satisfied: MarkupSafe>=0.23 in /usr/local/lib/python3.7/dist-packages (from jinja2->notebook->jupyter->d2l==1.0.0-alpha0) (2.0.1)\n",
            "Requirement already satisfied: kiwisolver>=1.0.1 in /usr/local/lib/python3.7/dist-packages (from matplotlib->d2l==1.0.0-alpha0) (1.4.4)\n",
            "Requirement already satisfied: pyparsing!=2.0.4,!=2.1.2,!=2.1.6,>=2.0.1 in /usr/local/lib/python3.7/dist-packages (from matplotlib->d2l==1.0.0-alpha0) (3.0.9)\n",
            "Requirement already satisfied: cycler>=0.10 in /usr/local/lib/python3.7/dist-packages (from matplotlib->d2l==1.0.0-alpha0) (0.11.0)\n",
            "Requirement already satisfied: typing-extensions in /usr/local/lib/python3.7/dist-packages (from kiwisolver>=1.0.1->matplotlib->d2l==1.0.0-alpha0) (4.1.1)\n",
            "Requirement already satisfied: testpath in /usr/local/lib/python3.7/dist-packages (from nbconvert->jupyter->d2l==1.0.0-alpha0) (0.6.0)\n",
            "Requirement already satisfied: entrypoints>=0.2.2 in /usr/local/lib/python3.7/dist-packages (from nbconvert->jupyter->d2l==1.0.0-alpha0) (0.4)\n",
            "Requirement already satisfied: mistune<2,>=0.8.1 in /usr/local/lib/python3.7/dist-packages (from nbconvert->jupyter->d2l==1.0.0-alpha0) (0.8.4)\n",
            "Requirement already satisfied: bleach in /usr/local/lib/python3.7/dist-packages (from nbconvert->jupyter->d2l==1.0.0-alpha0) (5.0.1)\n",
            "Requirement already satisfied: pandocfilters>=1.4.1 in /usr/local/lib/python3.7/dist-packages (from nbconvert->jupyter->d2l==1.0.0-alpha0) (1.5.0)\n",
            "Requirement already satisfied: defusedxml in /usr/local/lib/python3.7/dist-packages (from nbconvert->jupyter->d2l==1.0.0-alpha0) (0.7.1)\n",
            "Requirement already satisfied: fastjsonschema in /usr/local/lib/python3.7/dist-packages (from nbformat->notebook->jupyter->d2l==1.0.0-alpha0) (2.16.1)\n",
            "Requirement already satisfied: jsonschema>=2.6 in /usr/local/lib/python3.7/dist-packages (from nbformat->notebook->jupyter->d2l==1.0.0-alpha0) (4.3.3)\n",
            "Requirement already satisfied: attrs>=17.4.0 in /usr/local/lib/python3.7/dist-packages (from jsonschema>=2.6->nbformat->notebook->jupyter->d2l==1.0.0-alpha0) (21.4.0)\n",
            "Requirement already satisfied: importlib-metadata in /usr/local/lib/python3.7/dist-packages (from jsonschema>=2.6->nbformat->notebook->jupyter->d2l==1.0.0-alpha0) (4.12.0)\n",
            "Requirement already satisfied: pyrsistent!=0.17.0,!=0.17.1,!=0.17.2,>=0.14.0 in /usr/local/lib/python3.7/dist-packages (from jsonschema>=2.6->nbformat->notebook->jupyter->d2l==1.0.0-alpha0) (0.18.1)\n",
            "Requirement already satisfied: importlib-resources>=1.4.0 in /usr/local/lib/python3.7/dist-packages (from jsonschema>=2.6->nbformat->notebook->jupyter->d2l==1.0.0-alpha0) (5.8.0)\n",
            "Requirement already satisfied: zipp>=3.1.0 in /usr/local/lib/python3.7/dist-packages (from importlib-resources>=1.4.0->jsonschema>=2.6->nbformat->notebook->jupyter->d2l==1.0.0-alpha0) (3.8.1)\n",
            "Requirement already satisfied: webencodings in /usr/local/lib/python3.7/dist-packages (from bleach->nbconvert->jupyter->d2l==1.0.0-alpha0) (0.5.1)\n",
            "Requirement already satisfied: pytz>=2017.3 in /usr/local/lib/python3.7/dist-packages (from pandas->d2l==1.0.0-alpha0) (2022.1)\n",
            "Requirement already satisfied: qtpy>=2.0.1 in /usr/local/lib/python3.7/dist-packages (from qtconsole->jupyter->d2l==1.0.0-alpha0) (2.1.0)\n",
            "Requirement already satisfied: packaging in /usr/local/lib/python3.7/dist-packages (from qtpy>=2.0.1->qtconsole->jupyter->d2l==1.0.0-alpha0) (21.3)\n",
            "Requirement already satisfied: urllib3!=1.25.0,!=1.25.1,<1.26,>=1.21.1 in /usr/local/lib/python3.7/dist-packages (from requests->d2l==1.0.0-alpha0) (1.24.3)\n",
            "Requirement already satisfied: idna<3,>=2.5 in /usr/local/lib/python3.7/dist-packages (from requests->d2l==1.0.0-alpha0) (2.10)\n",
            "Requirement already satisfied: chardet<4,>=3.0.2 in /usr/local/lib/python3.7/dist-packages (from requests->d2l==1.0.0-alpha0) (3.0.4)\n",
            "Requirement already satisfied: certifi>=2017.4.17 in /usr/local/lib/python3.7/dist-packages (from requests->d2l==1.0.0-alpha0) (2022.6.15)\n",
            "Installing collected packages: d2l\n",
            "Successfully installed d2l-1.0.0a0\n",
            "Looking in indexes: https://pypi.org/simple, https://us-python.pkg.dev/colab-wheels/public/simple/\n",
            "Requirement already satisfied: h5py in /usr/local/lib/python3.7/dist-packages (3.1.0)\n",
            "Requirement already satisfied: pyyaml in /usr/local/lib/python3.7/dist-packages (3.13)\n",
            "Requirement already satisfied: numpy>=1.14.5 in /usr/local/lib/python3.7/dist-packages (from h5py) (1.21.6)\n",
            "Requirement already satisfied: cached-property in /usr/local/lib/python3.7/dist-packages (from h5py) (1.5.2)\n"
          ]
        }
      ],
      "source": [
        "!pip install preprocess\n",
        "!pip install -U mxnet-cu101==1.7.0\n",
        "!pip install d2l==1.0.0-alpha0\n",
        "!pip install h5py pyyaml\n"
      ]
    },
    {
      "cell_type": "markdown",
      "metadata": {
        "id": "6AllCWdNy45L"
      },
      "source": [
        "Import requiered libraries"
      ]
    },
    {
      "cell_type": "code",
      "execution_count": null,
      "metadata": {
        "id": "FJJquGHave81"
      },
      "outputs": [],
      "source": [
        "%load_ext tensorboard\n",
        "import os\n",
        "import numpy as np\n",
        "import pandas as pd\n",
        "import matplotlib.pyplot as plt\n",
        "import preprocess as pp\n",
        "import cv2\n",
        "\n",
        "from tensorflow import keras\n",
        "from tensorflow.keras.datasets import cifar10\n",
        "from tensorflow.keras import models, layers\n",
        "from tensorflow.keras.models import Model, Sequential\n",
        "from tensorflow.keras.layers import Input, Dense, Dropout, Flatten, Activation\n",
        "from tensorflow.keras.layers import BatchNormalization\n",
        "from tensorflow.keras import optimizers\n",
        "from tensorflow.keras.preprocessing import sequence\n",
        "from tensorflow.keras.preprocessing.image import ImageDataGenerator, array_to_img, img_to_array, load_img\n",
        "\n",
        "import  PIL.Image"
      ]
    },
    {
      "cell_type": "markdown",
      "metadata": {
        "id": "TGNEUx_wzEUN"
      },
      "source": [
        "Using tf.config.list_physical_devices('GPU') to confirm that TensorFlow is using the GPU.\n",
        "\n",
        "Also limiting the GPU consumption"
      ]
    },
    {
      "cell_type": "code",
      "execution_count": null,
      "metadata": {
        "colab": {
          "base_uri": "https://localhost:8080/"
        },
        "id": "bQMidZDZQBWp",
        "outputId": "c0ffc3d1-cd2a-4397-d92f-f119eb6667a3"
      },
      "outputs": [
        {
          "output_type": "stream",
          "name": "stdout",
          "text": [
            "Num GPUs Available:  1\n"
          ]
        }
      ],
      "source": [
        "import tensorflow as tf\n",
        "\n",
        "physical_devices = tf.config.experimental.list_physical_devices('GPU')\n",
        "print(\"Num GPUs Available: \", len(physical_devices))\n",
        "tf.config.experimental.set_memory_growth(physical_devices[0], True)"
      ]
    },
    {
      "cell_type": "markdown",
      "metadata": {
        "id": "Se-dESee0l5a"
      },
      "source": [
        "Import the labeled dataset from  NASA’s LAADS DAAC\n",
        "archives. \n",
        "\n",
        "Fast Fourier Transform has been applied to the images in the dataset for denoising."
      ]
    },
    {
      "cell_type": "code",
      "execution_count": null,
      "metadata": {
        "colab": {
          "base_uri": "https://localhost:8080/"
        },
        "id": "kC7XqyjBvhhW",
        "outputId": "55aadc6a-f146-43eb-f0f1-e1f424342cb3"
      },
      "outputs": [
        {
          "output_type": "stream",
          "name": "stdout",
          "text": [
            "/content/drive/MyDrive/fft-denoised\n"
          ]
        }
      ],
      "source": [
        "data_path = ('/content/drive/MyDrive/fft-denoised/')\n",
        "\n",
        "#data_path = ('/content/drive/MyDrive/Big Data REU 2022 Team 1/REU 2022 Research/Datasets/new-test-data_Seraj/fft-denoised')\n",
        "img_path= data_path\n",
        "\n",
        "os.chdir(img_path)\n",
        "print(os.path.abspath(os.getcwd()))\n"
      ]
    },
    {
      "cell_type": "markdown",
      "metadata": {
        "id": "3A8_7pz61YRq"
      },
      "source": [
        "Loading the pre-trained model Inception V3, which is trained with imagenet dataset.\n",
        "\n",
        "All layers in the Inception V3 has been assigned to not be trainable.\n"
      ]
    },
    {
      "cell_type": "code",
      "execution_count": null,
      "metadata": {
        "id": "GBhVkfO1vjwX",
        "colab": {
          "base_uri": "https://localhost:8080/"
        },
        "outputId": "3f65953d-10f4-4c69-90f0-1e7aa2dd4e85"
      },
      "outputs": [
        {
          "output_type": "stream",
          "name": "stdout",
          "text": [
            "Downloading data from https://storage.googleapis.com/tensorflow/keras-applications/inception_v3/inception_v3_weights_tf_dim_ordering_tf_kernels_notop.h5\n",
            "87916544/87910968 [==============================] - 3s 0us/step\n",
            "87924736/87910968 [==============================] - 3s 0us/step\n"
          ]
        }
      ],
      "source": [
        "from tensorflow.keras.applications.inception_v3 import InceptionV3\n",
        "import tensorflow as tf\n",
        "\n",
        "from keras import regularizers\n",
        "from keras.models import Model\n",
        "\n",
        "\n",
        "base_model = InceptionV3(input_shape = (256,256,3), include_top = False, weights = 'imagenet')\n",
        "\n",
        "# Freeze all the layers\n",
        "for layer in base_model.layers:\n",
        "  layer.trainable = False\n",
        "\n",
        "# Check the trainable status of the individual layers\n",
        "\n",
        "#for layer in base_model.layers:\n",
        "  #print(layer, layer.trainable)\n",
        "\n",
        "#base_model.summary()"
      ]
    },
    {
      "cell_type": "markdown",
      "metadata": {
        "id": "8IRVaga-1xlf"
      },
      "source": [
        "Split the model up to the module mixed7.\n",
        "\n",
        "Assigned 'mixed7' as the last layer from the model, thus the rest of the layers won't be used during training or evaluation.\n",
        "\n",
        "The reason for that is because for the Inception Model V3, the largest feature map is produced by this layer, and further layers have lower dimensions. So for the purpose of feature extraction, we want to use the feature map with the most dimensions possible."
      ]
    },
    {
      "cell_type": "code",
      "execution_count": null,
      "metadata": {
        "colab": {
          "base_uri": "https://localhost:8080/"
        },
        "id": "QCQlVKBovmL8",
        "outputId": "cc7338c1-98fe-429c-f3ae-aa6cfa9a7b45"
      },
      "outputs": [
        {
          "output_type": "stream",
          "name": "stdout",
          "text": [
            "last layer output shape:  (None, 14, 14, 768)\n"
          ]
        }
      ],
      "source": [
        "last_layer = base_model.get_layer('mixed7')\n",
        "print('last layer output shape: ', last_layer.output_shape)\n",
        "last_output = last_layer.output\n"
      ]
    },
    {
      "cell_type": "markdown",
      "metadata": {
        "id": "PeeujyT22WYx"
      },
      "source": [
        "Applied regularizers to all Conv2D layers"
      ]
    },
    {
      "cell_type": "code",
      "execution_count": null,
      "metadata": {
        "id": "x69MD0mWvnK4"
      },
      "outputs": [],
      "source": [
        "\n",
        "for layer in base_model.layers:\n",
        "  if layer.__class__.__name__ == 'Conv2D':\n",
        "    layer.kernel_regularizer = keras.regularizers.l1(0.0001)\n",
        "    layer.kernel_regularizer = keras.regularizers.l2(0.0001)\n",
        "\n",
        "    #tf.keras.regularizers.L1L2(l1=0.01, l2=0.01)  # L1 + L2 penalties"
      ]
    },
    {
      "cell_type": "markdown",
      "source": [
        "Defining the custom trainable layers.\n"
      ],
      "metadata": {
        "id": "jWZVnfwdYAKO"
      }
    },
    {
      "cell_type": "code",
      "execution_count": null,
      "metadata": {
        "id": "z-_mwxyFOLs5"
      },
      "outputs": [],
      "source": [
        "from tensorflow.keras import activations\n",
        "from tensorflow.keras.optimizers import RMSprop, SGD, Adam\n",
        "from tensorflow.keras.layers import Conv2D, Convolution2D, MaxPooling2D, AveragePooling2D, GlobalAveragePooling2D\n",
        "import tensorflow as tf\n",
        "from tensorflow.keras.callbacks import EarlyStopping\n",
        "from tensorflow.keras.utils import plot_model\n",
        "\n",
        "\n",
        "\n",
        "def model_call():\n",
        "\n",
        "\n",
        "  x = layers.Flatten()(last_output) #mixed 7\n",
        "\n",
        "  # Add a fully connected layer with 1,024 hidden units and ReLU activation\n",
        "\n",
        "  x = layers.Dense(1024, activation='relu')(x)\n",
        "\n",
        "  x = layers.Dropout(0.3)(x)      \n",
        "\n",
        "  # Add a final sigmoid layer for classification\n",
        "  x = layers.Dense(1, activation='sigmoid')(x)         \n",
        "\n",
        "  model = Model(base_model.input, x)\n",
        "\n",
        "  \n",
        "        \n",
        "  model.compile(optimizer = Adam(lr=1e-04),\n",
        "  #model.compile(optimizer = Adam(lr=1e-06),\n",
        "                loss = 'binary_crossentropy', \n",
        "                metrics = ['accuracy'])\n",
        "  \n",
        "\n",
        "\n",
        "  return model\n"
      ]
    },
    {
      "cell_type": "code",
      "execution_count": null,
      "metadata": {
        "id": "y9tUmSzLqHfA"
      },
      "outputs": [],
      "source": [
        "#model.summary()"
      ]
    },
    {
      "cell_type": "markdown",
      "metadata": {
        "id": "nw4guykK2d02"
      },
      "source": [
        "This callback function will simply prompt, during training, your validation accuracy % \n",
        "\n",
        "if validation accuracy achieves over 90%, 93% it will be notified during training.\n",
        "if validation accuracy is higher than 94%, it will stop training.\n",
        "\n",
        "For training, if you achieve 100% or 95% training accuracy, it will be notified during training."
      ]
    },
    {
      "cell_type": "code",
      "execution_count": null,
      "metadata": {
        "id": "MoPI007BXBn6"
      },
      "outputs": [],
      "source": [
        "class myCallback(tf.keras.callbacks.Callback):\n",
        "  def on_epoch_end(self, epoch, logs={}):\n",
        "\n",
        "    if(logs.get('accuracy')>0.99):\n",
        "      print(\"\\nReached 99% accuracy so cancelling training!\")\n",
        "      self.model.stop_training = False\n",
        "\n",
        "    elif(logs.get('val_accuracy')>0.9499):\n",
        "      print(\"\\nReached 95% or more validation accuracy, training finished.\")\n",
        "      self.model.stop_training = True\n",
        "\n",
        "    elif(logs.get('val_accuracy')>0.93):\n",
        "      print(f\"\\nReached 93% validation accuracy mark!!!\")\n",
        "      \n",
        "    elif(logs.get('val_accuracy')>0.8999):\n",
        "      print(f\"\\nReached 90% validation accuracy mark!\")\n",
        "\n",
        "    elif(logs.get('accuracy')>0.9499):\n",
        "      print(f\"\\nReached 95%  accuracy!\")\n",
        "      \n",
        "      \n",
        "      \n",
        "accstop = myCallback()"
      ]
    },
    {
      "cell_type": "markdown",
      "metadata": {
        "id": "yyQUkyDG3CBF"
      },
      "source": [
        "Defined the data generators for the train class, test class and validation class respectively.\n",
        "\n",
        "Also applied Data Augmentation.\n",
        "\n",
        "Class mode is set to binary since we are interested only in two types of output, true or false.\n"
      ]
    },
    {
      "cell_type": "code",
      "execution_count": null,
      "metadata": {
        "colab": {
          "base_uri": "https://localhost:8080/"
        },
        "id": "zYcH07DPvptN",
        "outputId": "2b720013-b243-4d3e-acf1-485b2fa719bd"
      },
      "outputs": [
        {
          "output_type": "stream",
          "name": "stdout",
          "text": [
            "Found 710 images belonging to 2 classes.\n"
          ]
        },
        {
          "output_type": "stream",
          "name": "stderr",
          "text": [
            "/usr/local/lib/python3.7/dist-packages/ipykernel_launcher.py:33: VisibleDeprecationWarning: Creating an ndarray from ragged nested sequences (which is a list-or-tuple of lists-or-tuples-or ndarrays with different lengths or shapes) is deprecated. If you meant to do this, you must specify 'dtype=object' when creating the ndarray.\n"
          ]
        },
        {
          "output_type": "stream",
          "name": "stdout",
          "text": [
            "Found 140 images belonging to 2 classes.\n",
            "Found 236 images belonging to 2 classes.\n"
          ]
        },
        {
          "output_type": "stream",
          "name": "stderr",
          "text": [
            "/usr/local/lib/python3.7/dist-packages/ipykernel_launcher.py:70: VisibleDeprecationWarning: Creating an ndarray from ragged nested sequences (which is a list-or-tuple of lists-or-tuples-or ndarrays with different lengths or shapes) is deprecated. If you meant to do this, you must specify 'dtype=object' when creating the ndarray.\n"
          ]
        }
      ],
      "source": [
        "\n",
        "batch_size = 27 #Defined batch size\n",
        "#batch_size = 140 #Defined batch size\n",
        "\n",
        "train_datagen = ImageDataGenerator(\n",
        "        width_shift_range = 0.2,\n",
        "        rescale=1/255,\n",
        "        shear_range=0.2,\n",
        "        horizontal_flip=True,\n",
        "        )\n",
        "\n",
        "\n",
        "test_datagen = ImageDataGenerator(\n",
        "        rescale=1/255)\n",
        "\n",
        "train_generator = train_datagen.flow_from_directory(\n",
        "        './train',\n",
        "        target_size=(256, 256),\n",
        "        #batch_size=80,\n",
        "        batch_size= batch_size,\n",
        "        #shuffle = True,\n",
        "        class_mode='binary')\n",
        "\n",
        "\n",
        "\n",
        "train_list = []\n",
        "batch_index = 0\n",
        "while batch_index <= train_generator.batch_index:\n",
        "  train = train_generator.next()\n",
        "  train_list.append(train[0])\n",
        "  batch_index = batch_index + 1\n",
        "\n",
        "train_array = np.asarray(train_list)\n",
        "\n",
        "\n",
        "validation_generator = train_datagen.flow_from_directory(\n",
        "        './validation',\n",
        "        target_size=(256, 256),\n",
        "        #batch_size= 24,\n",
        "        batch_size= 20,\n",
        "        #shuffle = True,\n",
        "        class_mode='binary')\n",
        "\n",
        "\n",
        "validation_list = []\n",
        "batch_index = 0\n",
        "while batch_index <= validation_generator.batch_index:\n",
        "  validation = validation_generator.next()\n",
        "  validation_list.append(validation[0])\n",
        "  batch_index = batch_index + 1\n",
        "\n",
        "validation_array = np.asarray(validation_list)\n",
        "\n",
        "\n",
        "test_generator = test_datagen.flow_from_directory(\n",
        "        './test',\n",
        "        target_size=(256, 256),\n",
        "        batch_size= batch_size,\n",
        "        class_mode= 'binary')\n",
        "\n",
        "\n",
        "\n",
        "test_list = []\n",
        "batch_index = 0\n",
        "while batch_index <= test_generator.batch_index:\n",
        "  test = test_generator.next()\n",
        "  test_list.append(test[0])\n",
        "  batch_index = batch_index + 1 \n",
        "\n",
        "test_array = np.asarray(test_list)\n",
        "\n"
      ]
    },
    {
      "cell_type": "markdown",
      "source": [
        "This loop will show how the data augmentation generated new images from the dataset"
      ],
      "metadata": {
        "id": "63l-3b6fYQhq"
      }
    },
    {
      "cell_type": "code",
      "source": [
        "for i in range(9):\n",
        "    plt.subplot(330 + 1 + i)\n",
        "    images, labels = train_generator.next()\n",
        "    image = (images[0]*255).astype('uint8')\n",
        "    plt.imshow(image)"
      ],
      "metadata": {
        "colab": {
          "base_uri": "https://localhost:8080/",
          "height": 269
        },
        "id": "4J3-boDNXcCo",
        "outputId": "9c6c424d-2bc6-44e1-89be-73a9a077e6a3"
      },
      "execution_count": null,
      "outputs": [
        {
          "output_type": "display_data",
          "data": {
            "text/plain": [
              "<Figure size 432x288 with 9 Axes>"
            ],
            "image/png": "[encoded data removed]"
          },
          "metadata": {
            "needs_background": "light"
          }
        }
      ]
    },
    {
      "cell_type": "markdown",
      "source": [
        "This function allows you to visualize the model.\n"
      ],
      "metadata": {
        "id": "408qHSwbYaOM"
      }
    },
    {
      "cell_type": "code",
      "execution_count": null,
      "metadata": {
        "id": "hyr5MYInMutR"
      },
      "outputs": [],
      "source": [
        "model1 = model_call()\n",
        "\n",
        "plot_model(model1, to_file='model_plot.png', show_shapes=True, show_layer_names=True) \n",
        "\n",
        " "
      ]
    },
    {
      "cell_type": "markdown",
      "source": [
        "First, we defined a callback for the Learning Rate Scheduler, where it will lower learning rate if there is no improvemnt on validation loss during training.\n",
        "\n",
        "After that, defined empty lists to store the scores from the validation and loss of the test generator during training. \n",
        "\n",
        "Also, the scores from training accuracy, loss and validation accuracy, loss are stored.\n",
        "\n",
        "And Finally, the highest validation scores and lowest loss scores are recorded.\n"
      ],
      "metadata": {
        "id": "wgtvk3ZeNQ8F"
      }
    },
    {
      "cell_type": "code",
      "source": [
        "from tensorflow.keras import callbacks\n",
        "\n",
        "reduce_lr = tf.keras.callbacks.ReduceLROnPlateau(monitor='val_loss', factor=0.1,\n",
        "                              patience=20, min_lr= 1e-15)\n",
        "\n",
        "test_acc_per_fold = []; test_loss_per_fold = []\n",
        "\n",
        "model = model_call()\n",
        "epoch = 300\n",
        "\n",
        "\n",
        "kh = model.fit(        \n",
        "        train_generator,\n",
        "        steps_per_epoch= 3,\n",
        "        #steps_per_epoch= 120 // batch_size,\n",
        "        epochs = epoch,\n",
        "        validation_data=validation_generator,\n",
        "        callbacks = [accstop, reduce_lr],\n",
        "        validation_steps= 1\n",
        "        #validation_steps= 32 // batch_size\n",
        "        )\n",
        "   \n",
        "scores = model.evaluate(train_generator, verbose=0)\n",
        "\n",
        "results = model.evaluate(validation_generator, verbose = 0)\n",
        "\n",
        "test_results = model.evaluate(test_generator, verbose = 0)\n",
        "\n",
        "best_acc = max(kh.history['accuracy']); best_loss = min(kh.history['loss']); best_val_acc = max(kh.history['val_accuracy']); best_val_loss = min(kh.history['val_loss'])\n"
      ],
      "metadata": {
        "colab": {
          "base_uri": "https://localhost:8080/"
        },
        "id": "6i2f2FJx7dHp",
        "outputId": "f3c7ed71-8c29-4c13-e2ed-883975d63f80"
      },
      "execution_count": null,
      "outputs": [
        {
          "metadata": {
            "tags": null
          },
          "name": "stderr",
          "output_type": "stream",
          "text": [
            "/usr/local/lib/python3.7/dist-packages/keras/optimizer_v2/adam.py:105: UserWarning: The `lr` argument is deprecated, use `learning_rate` instead.\n",
            "  super(Adam, self).__init__(name, **kwargs)\n"
          ]
        },
        {
          "metadata": {
            "tags": null
          },
          "name": "stdout",
          "output_type": "stream",
          "text": [
            "Epoch 1/300\n",
            "3/3 [==============================] - 9s 3s/step - loss: 1.6981 - accuracy: 0.5185 - val_loss: 1.3657 - val_accuracy: 0.5500 - lr: 1.0000e-04\n",
            "Epoch 2/300\n",
            "3/3 [==============================] - 5s 2s/step - loss: 1.1851 - accuracy: 0.4444 - val_loss: 0.6334 - val_accuracy: 0.6500 - lr: 1.0000e-04\n",
            "Epoch 3/300\n",
            "3/3 [==============================] - 5s 2s/step - loss: 0.7753 - accuracy: 0.5556 - val_loss: 1.0046 - val_accuracy: 0.4000 - lr: 1.0000e-04\n",
            "Epoch 4/300\n",
            "3/3 [==============================] - 4s 2s/step - loss: 1.0185 - accuracy: 0.5323 - val_loss: 0.7384 - val_accuracy: 0.5000 - lr: 1.0000e-04\n",
            "Epoch 5/300\n",
            "3/3 [==============================] - 4s 2s/step - loss: 0.7480 - accuracy: 0.6290 - val_loss: 0.4690 - val_accuracy: 0.7500 - lr: 1.0000e-04\n",
            "Epoch 6/300\n",
            "3/3 [==============================] - 5s 2s/step - loss: 0.4799 - accuracy: 0.7531 - val_loss: 0.7423 - val_accuracy: 0.5500 - lr: 1.0000e-04\n",
            "Epoch 7/300\n",
            "3/3 [==============================] - ETA: 0s - loss: 0.6178 - accuracy: 0.7160\n",
            "Reached 90% validation accuracy mark!\n",
            "3/3 [==============================] - 5s 2s/step - loss: 0.6178 - accuracy: 0.7160 - val_loss: 0.4247 - val_accuracy: 0.9000 - lr: 1.0000e-04\n",
            "Epoch 8/300\n",
            "3/3 [==============================] - 7s 3s/step - loss: 0.5198 - accuracy: 0.7037 - val_loss: 0.9442 - val_accuracy: 0.5000 - lr: 1.0000e-04\n",
            "Epoch 9/300\n",
            "3/3 [==============================] - 5s 2s/step - loss: 0.5969 - accuracy: 0.6914 - val_loss: 0.4473 - val_accuracy: 0.8000 - lr: 1.0000e-04\n",
            "Epoch 10/300\n",
            "3/3 [==============================] - 5s 2s/step - loss: 0.5464 - accuracy: 0.7037 - val_loss: 0.7314 - val_accuracy: 0.6000 - lr: 1.0000e-04\n",
            "Epoch 11/300\n",
            "3/3 [==============================] - 5s 2s/step - loss: 0.5178 - accuracy: 0.7407 - val_loss: 0.6962 - val_accuracy: 0.6000 - lr: 1.0000e-04\n",
            "Epoch 12/300\n",
            "3/3 [==============================] - 6s 2s/step - loss: 0.4648 - accuracy: 0.7654 - val_loss: 0.6374 - val_accuracy: 0.8000 - lr: 1.0000e-04\n",
            "Epoch 13/300\n",
            "3/3 [==============================] - 5s 2s/step - loss: 0.4940 - accuracy: 0.7407 - val_loss: 0.6209 - val_accuracy: 0.7500 - lr: 1.0000e-04\n",
            "Epoch 14/300\n",
            "3/3 [==============================] - 5s 2s/step - loss: 0.4735 - accuracy: 0.8025 - val_loss: 0.5916 - val_accuracy: 0.7000 - lr: 1.0000e-04\n",
            "Epoch 15/300\n",
            "3/3 [==============================] - 5s 2s/step - loss: 0.5042 - accuracy: 0.8025 - val_loss: 0.6255 - val_accuracy: 0.5500 - lr: 1.0000e-04\n",
            "Epoch 16/300\n",
            "3/3 [==============================] - 5s 2s/step - loss: 0.3314 - accuracy: 0.8148 - val_loss: 0.4284 - val_accuracy: 0.8000 - lr: 1.0000e-04\n",
            "Epoch 17/300\n",
            "3/3 [==============================] - 5s 2s/step - loss: 0.3861 - accuracy: 0.8519 - val_loss: 0.5526 - val_accuracy: 0.7000 - lr: 1.0000e-04\n",
            "Epoch 18/300\n",
            "3/3 [==============================] - 5s 2s/step - loss: 0.5246 - accuracy: 0.7901 - val_loss: 0.4269 - val_accuracy: 0.8500 - lr: 1.0000e-04\n",
            "Epoch 19/300\n",
            "3/3 [==============================] - 5s 2s/step - loss: 0.4583 - accuracy: 0.7778 - val_loss: 0.4225 - val_accuracy: 0.8500 - lr: 1.0000e-04\n",
            "Epoch 20/300\n",
            "3/3 [==============================] - 4s 2s/step - loss: 0.5433 - accuracy: 0.7419 - val_loss: 0.5271 - val_accuracy: 0.6000 - lr: 1.0000e-04\n",
            "Epoch 21/300\n",
            "3/3 [==============================] - 5s 2s/step - loss: 0.4737 - accuracy: 0.7531 - val_loss: 0.5169 - val_accuracy: 0.7500 - lr: 1.0000e-04\n",
            "Epoch 22/300\n",
            "3/3 [==============================] - 4s 2s/step - loss: 0.4701 - accuracy: 0.7097 - val_loss: 0.5748 - val_accuracy: 0.7000 - lr: 1.0000e-04\n",
            "Epoch 23/300\n",
            "3/3 [==============================] - 5s 2s/step - loss: 0.3881 - accuracy: 0.8025 - val_loss: 0.6862 - val_accuracy: 0.5500 - lr: 1.0000e-04\n",
            "Epoch 24/300\n",
            "3/3 [==============================] - 5s 2s/step - loss: 0.4884 - accuracy: 0.8025 - val_loss: 0.3913 - val_accuracy: 0.8500 - lr: 1.0000e-04\n",
            "Epoch 25/300\n",
            "3/3 [==============================] - 5s 2s/step - loss: 0.4664 - accuracy: 0.7160 - val_loss: 0.6570 - val_accuracy: 0.7000 - lr: 1.0000e-04\n",
            "Epoch 26/300\n",
            "3/3 [==============================] - 5s 2s/step - loss: 0.2752 - accuracy: 0.9012 - val_loss: 0.4174 - val_accuracy: 0.8500 - lr: 1.0000e-04\n",
            "Epoch 27/300\n",
            "3/3 [==============================] - 6s 3s/step - loss: 0.3717 - accuracy: 0.8025 - val_loss: 0.4348 - val_accuracy: 0.7500 - lr: 1.0000e-04\n",
            "Epoch 28/300\n",
            "3/3 [==============================] - ETA: 0s - loss: 0.3875 - accuracy: 0.7901\n",
            "Reached 90% validation accuracy mark!\n",
            "3/3 [==============================] - 5s 2s/step - loss: 0.3875 - accuracy: 0.7901 - val_loss: 0.4802 - val_accuracy: 0.9000 - lr: 1.0000e-04\n",
            "Epoch 29/300\n",
            "3/3 [==============================] - 5s 2s/step - loss: 0.3802 - accuracy: 0.8395 - val_loss: 0.3853 - val_accuracy: 0.8500 - lr: 1.0000e-04\n",
            "Epoch 30/300\n",
            "3/3 [==============================] - 5s 2s/step - loss: 0.3825 - accuracy: 0.8395 - val_loss: 0.5305 - val_accuracy: 0.7000 - lr: 1.0000e-04\n",
            "Epoch 31/300\n",
            "3/3 [==============================] - 4s 2s/step - loss: 0.4125 - accuracy: 0.8272 - val_loss: 0.4572 - val_accuracy: 0.8500 - lr: 1.0000e-04\n",
            "Epoch 32/300\n",
            "3/3 [==============================] - 5s 2s/step - loss: 0.3668 - accuracy: 0.8519 - val_loss: 0.5727 - val_accuracy: 0.8000 - lr: 1.0000e-04\n",
            "Epoch 33/300\n",
            "3/3 [==============================] - 5s 2s/step - loss: 0.2910 - accuracy: 0.9136 - val_loss: 0.5387 - val_accuracy: 0.7500 - lr: 1.0000e-04\n",
            "Epoch 34/300\n",
            "3/3 [==============================] - 5s 2s/step - loss: 0.4191 - accuracy: 0.8025 - val_loss: 0.5913 - val_accuracy: 0.6500 - lr: 1.0000e-04\n",
            "Epoch 35/300\n",
            "3/3 [==============================] - 5s 2s/step - loss: 0.3906 - accuracy: 0.8148 - val_loss: 0.5217 - val_accuracy: 0.6500 - lr: 1.0000e-04\n",
            "Epoch 36/300\n",
            "3/3 [==============================] - 5s 2s/step - loss: 0.4715 - accuracy: 0.8025 - val_loss: 0.6898 - val_accuracy: 0.6500 - lr: 1.0000e-04\n",
            "Epoch 37/300\n",
            "3/3 [==============================] - 5s 2s/step - loss: 0.3986 - accuracy: 0.8272 - val_loss: 0.6060 - val_accuracy: 0.6000 - lr: 1.0000e-04\n",
            "Epoch 38/300\n",
            "3/3 [==============================] - 5s 2s/step - loss: 0.4648 - accuracy: 0.7901 - val_loss: 0.7986 - val_accuracy: 0.6000 - lr: 1.0000e-04\n",
            "Epoch 39/300\n",
            "3/3 [==============================] - 4s 2s/step - loss: 0.4887 - accuracy: 0.8387 - val_loss: 0.5956 - val_accuracy: 0.7500 - lr: 1.0000e-04\n",
            "Epoch 40/300\n",
            "3/3 [==============================] - 5s 2s/step - loss: 0.3822 - accuracy: 0.8272 - val_loss: 0.7244 - val_accuracy: 0.7500 - lr: 1.0000e-04\n",
            "Epoch 41/300\n",
            "3/3 [==============================] - 5s 2s/step - loss: 0.3828 - accuracy: 0.8025 - val_loss: 0.5788 - val_accuracy: 0.7000 - lr: 1.0000e-04\n",
            "Epoch 42/300\n",
            "3/3 [==============================] - 5s 2s/step - loss: 0.3393 - accuracy: 0.8765 - val_loss: 0.5886 - val_accuracy: 0.6500 - lr: 1.0000e-04\n",
            "Epoch 43/300\n",
            "3/3 [==============================] - 5s 2s/step - loss: 0.4507 - accuracy: 0.7284 - val_loss: 0.4232 - val_accuracy: 0.8000 - lr: 1.0000e-04\n",
            "Epoch 44/300\n",
            "3/3 [==============================] - 4s 2s/step - loss: 0.3606 - accuracy: 0.8548 - val_loss: 0.9342 - val_accuracy: 0.6000 - lr: 1.0000e-04\n",
            "Epoch 45/300\n",
            "3/3 [==============================] - 5s 2s/step - loss: 0.4146 - accuracy: 0.7778 - val_loss: 0.5153 - val_accuracy: 0.7000 - lr: 1.0000e-04\n",
            "Epoch 46/300\n",
            "3/3 [==============================] - 7s 3s/step - loss: 0.4478 - accuracy: 0.7901 - val_loss: 0.6477 - val_accuracy: 0.6500 - lr: 1.0000e-04\n",
            "Epoch 47/300\n",
            "3/3 [==============================] - 5s 2s/step - loss: 0.4146 - accuracy: 0.7778 - val_loss: 0.8019 - val_accuracy: 0.5500 - lr: 1.0000e-04\n",
            "Epoch 48/300\n",
            "3/3 [==============================] - 5s 2s/step - loss: 0.4292 - accuracy: 0.7778 - val_loss: 0.7887 - val_accuracy: 0.6000 - lr: 1.0000e-04\n",
            "Epoch 49/300\n",
            "3/3 [==============================] - 5s 2s/step - loss: 0.4485 - accuracy: 0.7901 - val_loss: 0.7357 - val_accuracy: 0.7000 - lr: 1.0000e-04\n",
            "Epoch 50/300\n",
            "3/3 [==============================] - 5s 2s/step - loss: 0.4778 - accuracy: 0.7531 - val_loss: 0.6587 - val_accuracy: 0.7000 - lr: 1.0000e-05\n",
            "Epoch 51/300\n",
            "3/3 [==============================] - 5s 2s/step - loss: 0.4360 - accuracy: 0.7531 - val_loss: 0.4610 - val_accuracy: 0.7500 - lr: 1.0000e-05\n",
            "Epoch 52/300\n",
            "3/3 [==============================] - 5s 2s/step - loss: 0.3964 - accuracy: 0.8025 - val_loss: 0.7490 - val_accuracy: 0.6500 - lr: 1.0000e-05\n",
            "Epoch 53/300\n",
            "3/3 [==============================] - ETA: 0s - loss: 0.3317 - accuracy: 0.8272\n",
            "Reached 90% validation accuracy mark!\n",
            "3/3 [==============================] - 5s 2s/step - loss: 0.3317 - accuracy: 0.8272 - val_loss: 0.3674 - val_accuracy: 0.9000 - lr: 1.0000e-05\n",
            "Epoch 54/300\n",
            "3/3 [==============================] - 5s 2s/step - loss: 0.3582 - accuracy: 0.8519 - val_loss: 0.4103 - val_accuracy: 0.8000 - lr: 1.0000e-05\n",
            "Epoch 55/300\n",
            "3/3 [==============================] - 5s 2s/step - loss: 0.2196 - accuracy: 0.9259 - val_loss: 0.6168 - val_accuracy: 0.7000 - lr: 1.0000e-05\n",
            "Epoch 56/300\n",
            "3/3 [==============================] - 5s 2s/step - loss: 0.3431 - accuracy: 0.8889 - val_loss: 0.7553 - val_accuracy: 0.6500 - lr: 1.0000e-05\n",
            "Epoch 57/300\n",
            "3/3 [==============================] - 5s 2s/step - loss: 0.2930 - accuracy: 0.8889 - val_loss: 0.8186 - val_accuracy: 0.6000 - lr: 1.0000e-05\n",
            "Epoch 58/300\n",
            "3/3 [==============================] - 5s 2s/step - loss: 0.4300 - accuracy: 0.8272 - val_loss: 0.4414 - val_accuracy: 0.8000 - lr: 1.0000e-05\n",
            "Epoch 59/300\n",
            "3/3 [==============================] - 5s 2s/step - loss: 0.3183 - accuracy: 0.8519 - val_loss: 0.6343 - val_accuracy: 0.5000 - lr: 1.0000e-05\n",
            "Epoch 60/300\n",
            "3/3 [==============================] - 5s 2s/step - loss: 0.3851 - accuracy: 0.8395 - val_loss: 0.4623 - val_accuracy: 0.7500 - lr: 1.0000e-05\n",
            "Epoch 61/300\n",
            "3/3 [==============================] - 4s 2s/step - loss: 0.2799 - accuracy: 0.8871 - val_loss: 0.4747 - val_accuracy: 0.8000 - lr: 1.0000e-05\n",
            "Epoch 62/300\n",
            "3/3 [==============================] - 5s 2s/step - loss: 0.3613 - accuracy: 0.8148 - val_loss: 0.5341 - val_accuracy: 0.7500 - lr: 1.0000e-05\n",
            "Epoch 63/300\n",
            "3/3 [==============================] - 7s 3s/step - loss: 0.2571 - accuracy: 0.9136 - val_loss: 0.3141 - val_accuracy: 0.8000 - lr: 1.0000e-05\n",
            "Epoch 64/300\n",
            "3/3 [==============================] - 5s 2s/step - loss: 0.3200 - accuracy: 0.8395 - val_loss: 0.5385 - val_accuracy: 0.7500 - lr: 1.0000e-05\n",
            "Epoch 65/300\n",
            "3/3 [==============================] - 5s 2s/step - loss: 0.3552 - accuracy: 0.8519 - val_loss: 0.6715 - val_accuracy: 0.7500 - lr: 1.0000e-05\n",
            "Epoch 66/300\n",
            "3/3 [==============================] - 5s 2s/step - loss: 0.3656 - accuracy: 0.8395 - val_loss: 0.4603 - val_accuracy: 0.7000 - lr: 1.0000e-05\n",
            "Epoch 67/300\n",
            "3/3 [==============================] - 5s 2s/step - loss: 0.2296 - accuracy: 0.9259 - val_loss: 0.6923 - val_accuracy: 0.6500 - lr: 1.0000e-05\n",
            "Epoch 68/300\n",
            "3/3 [==============================] - 5s 2s/step - loss: 0.3223 - accuracy: 0.8519 - val_loss: 0.4529 - val_accuracy: 0.7500 - lr: 1.0000e-05\n",
            "Epoch 69/300\n",
            "3/3 [==============================] - 5s 2s/step - loss: 0.2832 - accuracy: 0.9259 - val_loss: 0.5320 - val_accuracy: 0.6000 - lr: 1.0000e-05\n",
            "Epoch 70/300\n",
            "3/3 [==============================] - 5s 2s/step - loss: 0.3072 - accuracy: 0.9012 - val_loss: 0.5803 - val_accuracy: 0.7000 - lr: 1.0000e-05\n",
            "Epoch 71/300\n",
            "3/3 [==============================] - 6s 2s/step - loss: 0.2156 - accuracy: 0.9136 - val_loss: 0.4417 - val_accuracy: 0.7500 - lr: 1.0000e-05\n",
            "Epoch 72/300\n",
            "3/3 [==============================] - 5s 2s/step - loss: 0.3395 - accuracy: 0.8395 - val_loss: 0.7025 - val_accuracy: 0.5500 - lr: 1.0000e-05\n",
            "Epoch 73/300\n",
            "3/3 [==============================] - 5s 2s/step - loss: 0.2178 - accuracy: 0.9383 - val_loss: 0.4214 - val_accuracy: 0.8000 - lr: 1.0000e-05\n",
            "Epoch 74/300\n",
            "3/3 [==============================] - 5s 2s/step - loss: 0.2988 - accuracy: 0.8642 - val_loss: 0.3827 - val_accuracy: 0.8000 - lr: 1.0000e-05\n",
            "Epoch 75/300\n",
            "3/3 [==============================] - 5s 2s/step - loss: 0.2094 - accuracy: 0.9383 - val_loss: 0.6394 - val_accuracy: 0.7500 - lr: 1.0000e-05\n",
            "Epoch 76/300\n",
            "3/3 [==============================] - 5s 2s/step - loss: 0.2725 - accuracy: 0.8765 - val_loss: 0.6690 - val_accuracy: 0.6500 - lr: 1.0000e-05\n",
            "Epoch 77/300\n",
            "3/3 [==============================] - 4s 2s/step - loss: 0.3369 - accuracy: 0.8065 - val_loss: 0.6239 - val_accuracy: 0.7000 - lr: 1.0000e-05\n",
            "Epoch 78/300\n",
            "3/3 [==============================] - 5s 2s/step - loss: 0.3596 - accuracy: 0.8519 - val_loss: 0.8003 - val_accuracy: 0.6500 - lr: 1.0000e-05\n",
            "Epoch 79/300\n",
            "3/3 [==============================] - 4s 2s/step - loss: 0.2763 - accuracy: 0.8710 - val_loss: 0.3775 - val_accuracy: 0.7500 - lr: 1.0000e-05\n",
            "Epoch 80/300\n",
            "3/3 [==============================] - 5s 2s/step - loss: 0.3089 - accuracy: 0.8642 - val_loss: 0.4558 - val_accuracy: 0.7000 - lr: 1.0000e-05\n",
            "Epoch 81/300\n",
            "3/3 [==============================] - 6s 3s/step - loss: 0.5062 - accuracy: 0.7654 - val_loss: 0.3813 - val_accuracy: 0.8000 - lr: 1.0000e-05\n",
            "Epoch 82/300\n",
            "3/3 [==============================] - 5s 2s/step - loss: 0.3536 - accuracy: 0.8272 - val_loss: 0.4811 - val_accuracy: 0.8500 - lr: 1.0000e-05\n",
            "Epoch 83/300\n",
            "3/3 [==============================] - 5s 2s/step - loss: 0.3454 - accuracy: 0.8519 - val_loss: 0.5269 - val_accuracy: 0.7000 - lr: 1.0000e-05\n",
            "Epoch 84/300\n",
            "3/3 [==============================] - 5s 2s/step - loss: 0.2848 - accuracy: 0.9012 - val_loss: 0.4399 - val_accuracy: 0.8500 - lr: 1.0000e-06\n",
            "Epoch 85/300\n",
            "3/3 [==============================] - 5s 2s/step - loss: 0.3519 - accuracy: 0.8642 - val_loss: 0.4459 - val_accuracy: 0.8000 - lr: 1.0000e-06\n",
            "Epoch 86/300\n",
            "3/3 [==============================] - 5s 2s/step - loss: 0.2835 - accuracy: 0.9012 - val_loss: 0.6411 - val_accuracy: 0.7500 - lr: 1.0000e-06\n",
            "Epoch 87/300\n",
            "3/3 [==============================] - 5s 2s/step - loss: 0.3035 - accuracy: 0.9136 - val_loss: 0.5485 - val_accuracy: 0.7000 - lr: 1.0000e-06\n",
            "Epoch 88/300\n",
            "3/3 [==============================] - 5s 2s/step - loss: 0.3151 - accuracy: 0.8642 - val_loss: 0.6657 - val_accuracy: 0.7500 - lr: 1.0000e-06\n",
            "Epoch 89/300\n",
            "3/3 [==============================] - ETA: 0s - loss: 0.3034 - accuracy: 0.8642\n",
            "Reached 90% validation accuracy mark!\n",
            "3/3 [==============================] - 5s 2s/step - loss: 0.3034 - accuracy: 0.8642 - val_loss: 0.2790 - val_accuracy: 0.9000 - lr: 1.0000e-06\n",
            "Epoch 90/300\n",
            "3/3 [==============================] - 5s 2s/step - loss: 0.2743 - accuracy: 0.8889 - val_loss: 0.4924 - val_accuracy: 0.8000 - lr: 1.0000e-06\n",
            "Epoch 91/300\n",
            "3/3 [==============================] - 5s 2s/step - loss: 0.2249 - accuracy: 0.9259 - val_loss: 0.5592 - val_accuracy: 0.6500 - lr: 1.0000e-06\n",
            "Epoch 92/300\n",
            "3/3 [==============================] - 5s 2s/step - loss: 0.2806 - accuracy: 0.8765 - val_loss: 0.6811 - val_accuracy: 0.7500 - lr: 1.0000e-06\n",
            "Epoch 93/300\n",
            "3/3 [==============================] - 5s 2s/step - loss: 0.3741 - accuracy: 0.8272 - val_loss: 0.6954 - val_accuracy: 0.6500 - lr: 1.0000e-06\n",
            "Epoch 94/300\n",
            "3/3 [==============================] - 5s 2s/step - loss: 0.2514 - accuracy: 0.9259 - val_loss: 0.4376 - val_accuracy: 0.8500 - lr: 1.0000e-06\n",
            "Epoch 95/300\n",
            "3/3 [==============================] - 5s 2s/step - loss: 0.2108 - accuracy: 0.9383 - val_loss: 0.5304 - val_accuracy: 0.8000 - lr: 1.0000e-06\n",
            "Epoch 96/300\n",
            "3/3 [==============================] - 5s 2s/step - loss: 0.3002 - accuracy: 0.9012 - val_loss: 0.5271 - val_accuracy: 0.7500 - lr: 1.0000e-06\n",
            "Epoch 97/300\n",
            "3/3 [==============================] - 5s 2s/step - loss: 0.3025 - accuracy: 0.9012 - val_loss: 0.3760 - val_accuracy: 0.8500 - lr: 1.0000e-06\n",
            "Epoch 98/300\n",
            "3/3 [==============================] - 4s 2s/step - loss: 0.3040 - accuracy: 0.8548 - val_loss: 0.7246 - val_accuracy: 0.7000 - lr: 1.0000e-06\n",
            "Epoch 99/300\n",
            "3/3 [==============================] - ETA: 0s - loss: 0.2356 - accuracy: 0.9506\n",
            "Reached 90%  accuracy!\n",
            "3/3 [==============================] - 6s 2s/step - loss: 0.2356 - accuracy: 0.9506 - val_loss: 0.4452 - val_accuracy: 0.8500 - lr: 1.0000e-06\n",
            "Epoch 100/300\n",
            "3/3 [==============================] - 4s 2s/step - loss: 0.3974 - accuracy: 0.8065 - val_loss: 0.3686 - val_accuracy: 0.8500 - lr: 1.0000e-06\n",
            "Epoch 101/300\n",
            "3/3 [==============================] - 5s 2s/step - loss: 0.2406 - accuracy: 0.9383 - val_loss: 0.4604 - val_accuracy: 0.8500 - lr: 1.0000e-06\n",
            "Epoch 102/300\n",
            "3/3 [==============================] - 4s 2s/step - loss: 0.3436 - accuracy: 0.8548 - val_loss: 0.6444 - val_accuracy: 0.7000 - lr: 1.0000e-06\n",
            "Epoch 103/300\n",
            "3/3 [==============================] - 5s 2s/step - loss: 0.2314 - accuracy: 0.8889 - val_loss: 0.5889 - val_accuracy: 0.7500 - lr: 1.0000e-06\n",
            "Epoch 104/300\n",
            "3/3 [==============================] - 5s 2s/step - loss: 0.2153 - accuracy: 0.9383 - val_loss: 0.3509 - val_accuracy: 0.8500 - lr: 1.0000e-06\n",
            "Epoch 105/300\n",
            "3/3 [==============================] - 4s 2s/step - loss: 0.4124 - accuracy: 0.8148 - val_loss: 0.4891 - val_accuracy: 0.8000 - lr: 1.0000e-06\n",
            "Epoch 106/300\n",
            "3/3 [==============================] - 5s 2s/step - loss: 0.2853 - accuracy: 0.8765 - val_loss: 0.4760 - val_accuracy: 0.7000 - lr: 1.0000e-06\n",
            "Epoch 107/300\n",
            "3/3 [==============================] - 5s 2s/step - loss: 0.3476 - accuracy: 0.8642 - val_loss: 0.3731 - val_accuracy: 0.8000 - lr: 1.0000e-06\n",
            "Epoch 108/300\n",
            "3/3 [==============================] - ETA: 0s - loss: 0.3525 - accuracy: 0.8065\n",
            "Reached 95% or more validation accuracy, training finished.\n",
            "3/3 [==============================] - 5s 2s/step - loss: 0.3525 - accuracy: 0.8065 - val_loss: 0.2325 - val_accuracy: 0.9500 - lr: 1.0000e-06\n"
          ]
        }
      ]
    },
    {
      "cell_type": "code",
      "source": [
        "\n",
        "print('-----------------------------------------------------------------------------------------------------------------------------------------------------------------')\n",
        "\n",
        "print(f'Training Score : {model.metrics_names[0]} of {scores[0]}; {model.metrics_names[1]} of {scores[1]*100}%;  \\n' )\n",
        "\n",
        "print(f'Validation Score: {model.metrics_names[0]} of {results[0]}; validation {model.metrics_names[1]} of {results[1]*100}%;  \\n' )\n",
        "\n",
        "print(f'Test Score: test {model.metrics_names[0]} of {test_results[0]}; test {model.metrics_names[1]} of {test_results[1]*100}%;  \\n' )\n",
        "\n",
        "print(f' Best Accuracy: {best_acc*100}%;  Best Loss: {best_loss}; Best Val_Accuracy: {best_val_acc*100}%; Best Val_Loss: {best_val_loss} \\n' )\n",
        "\n",
        "\n",
        "print('-----------------------------------------------------------------------------------------------------------------------------------------------------------------')"
      ],
      "metadata": {
        "colab": {
          "base_uri": "https://localhost:8080/"
        },
        "id": "E9490nMl7dNN",
        "outputId": "8ba9901b-75d0-4117-d074-00b70a296c8e"
      },
      "execution_count": null,
      "outputs": [
        {
          "output_type": "stream",
          "name": "stdout",
          "text": [
            "-----------------------------------------------------------------------------------------------------------------------------------------------------------------\n",
            "Training Score : loss of 0.2842428982257843; accuracy of 89.01408314704895%;  \n",
            "\n",
            "Validation Score: loss of 0.4928686320781708; validation accuracy of 76.42857432365417%;  \n",
            "\n",
            "Test Score: test loss of 0.5538454651832581; test accuracy of 75.8474588394165%;  \n",
            "\n",
            " Best Accuracy: 95.06173133850098%;  Best Loss: 0.20944435894489288; Best Val_Accuracy: 94.9999988079071%; Best Val_Loss: 0.2324722707271576 \n",
            "\n",
            "-----------------------------------------------------------------------------------------------------------------------------------------------------------------\n"
          ]
        }
      ]
    },
    {
      "cell_type": "code",
      "source": [
        "\n",
        "plt.plot(kh.history['accuracy'])\n",
        "plt.plot(kh.history['val_accuracy'])\n",
        "plt.title('Training and Validation Accuracies')\n",
        "plt.ylabel('Accuracy')\n",
        "plt.xlabel('Epoch')\n",
        "plt.legend(['Training', 'Validation'], loc = 'upper left')\n",
        "plt.show()"
      ],
      "metadata": {
        "colab": {
          "base_uri": "https://localhost:8080/",
          "height": 295
        },
        "id": "J6BZIQnN7dRv",
        "outputId": "094844dc-b374-411d-da2d-a4413f414791"
      },
      "execution_count": null,
      "outputs": [
        {
          "output_type": "display_data",
          "data": {
            "text/plain": [
              "<Figure size 432x288 with 1 Axes>"
            ],
            "image/png": "[encoded data removed]"
          },
          "metadata": {
            "needs_background": "light"
          }
        }
      ]
    },
    {
      "cell_type": "code",
      "source": [
        "\n",
        "plt.plot(kh.history['loss'])\n",
        "plt.plot(kh.history['val_loss'])\n",
        "plt.title('Training and Validation Losses')\n",
        "plt.ylabel('Losses')\n",
        "plt.xlabel('Epoch')\n",
        "plt.legend(['Training', 'Validation'], loc = 'upper left')\n",
        "plt.show()"
      ],
      "metadata": {
        "colab": {
          "base_uri": "https://localhost:8080/",
          "height": 295
        },
        "id": "G72Rc-pVWU2f",
        "outputId": "fbdfd030-c90a-4eb8-a57c-bc4be2de4078"
      },
      "execution_count": null,
      "outputs": [
        {
          "output_type": "display_data",
          "data": {
            "text/plain": [
              "<Figure size 432x288 with 1 Axes>"
            ],
            "image/png": "[encoded data removed]"
          },
          "metadata": {
            "needs_background": "light"
          }
        }
      ]
    },
    {
      "cell_type": "markdown",
      "source": [
        "Shows evaluation score of the test generator after training.\n",
        "\n"
      ],
      "metadata": {
        "id": "0LYQfvxDY-fj"
      }
    },
    {
      "cell_type": "code",
      "source": [
        "_, acc = model.evaluate(test_generator)\n",
        "print(acc)\n"
      ],
      "metadata": {
        "colab": {
          "base_uri": "https://localhost:8080/"
        },
        "id": "YETTcYo0WU8e",
        "outputId": "a9c9f7ce-c3fa-4a74-d943-327a387af5c5"
      },
      "execution_count": null,
      "outputs": [
        {
          "output_type": "stream",
          "name": "stdout",
          "text": [
            "9/9 [==============================] - 9s 1s/step - loss: 0.5538 - accuracy: 0.7585\n",
            "0.758474588394165\n"
          ]
        }
      ]
    },
    {
      "cell_type": "markdown",
      "source": [
        "Shows evaluation score of the validation generator after training."
      ],
      "metadata": {
        "id": "05ZopiQIZDcs"
      }
    },
    {
      "cell_type": "code",
      "source": [
        "_, acc = model.evaluate(validation_generator)\n",
        "print(acc)"
      ],
      "metadata": {
        "colab": {
          "base_uri": "https://localhost:8080/"
        },
        "id": "eD4g_Tb6WVBo",
        "outputId": "a12e3fe9-5141-4526-f62f-db1ab637534e"
      },
      "execution_count": null,
      "outputs": [
        {
          "output_type": "stream",
          "name": "stdout",
          "text": [
            "7/7 [==============================] - 5s 729ms/step - loss: 0.5051 - accuracy: 0.7357\n",
            "0.7357142567634583\n"
          ]
        }
      ]
    },
    {
      "cell_type": "markdown",
      "source": [
        "This function allows to calculare presicion, recall, accuracy and f1 scores after training.\n"
      ],
      "metadata": {
        "id": "Yo032wqgZHOm"
      }
    },
    {
      "cell_type": "code",
      "source": [
        "from tensorflow.keras.metrics import Precision, Recall, BinaryAccuracy\n",
        "\n",
        "pre = Precision()\n",
        "re = Recall()\n",
        "acc = BinaryAccuracy()\n",
        "\n",
        "for batch in validation:\n",
        "  X,y = validation\n",
        "  yhat = model.predict(X)\n",
        "  pre.update_state(y, yhat)\n",
        "  re.update_state(y, yhat)\n",
        "  acc.update_state(y, yhat)\n",
        "\n",
        "f1_score = (2 * pre.result().numpy() * re.result())/(pre.result().numpy() + re.result())\n",
        "\n",
        "print('For Validation: ')\n",
        "print(f'Precision: {pre.result().numpy()}, Recall: {re.result().numpy()}, Accuracy: {acc.result().numpy()}, F1 Score: {f1_score}')\n",
        "\n"
      ],
      "metadata": {
        "colab": {
          "base_uri": "https://localhost:8080/"
        },
        "id": "UYLi3YLT7dgH",
        "outputId": "6a77be29-0753-4e56-9063-10909656e11b"
      },
      "execution_count": null,
      "outputs": [
        {
          "output_type": "stream",
          "name": "stdout",
          "text": [
            "For Validation: \n",
            "Precision: 0.8181818127632141, Recall: 0.8181818127632141, Accuracy: 0.800000011920929, F1 Score: 0.8181818127632141\n"
          ]
        }
      ]
    },
    {
      "cell_type": "code",
      "source": [
        "from tensorflow.keras.metrics import Precision, Recall, BinaryAccuracy\n",
        "\n",
        "pre = Precision()\n",
        "re = Recall()\n",
        "acc = BinaryAccuracy()\n",
        "\n",
        "for batch in test:\n",
        "  X,y = test\n",
        "  yhat = model.predict(X)\n",
        "  pre.update_state(y, yhat)\n",
        "  re.update_state(y, yhat)\n",
        "  acc.update_state(y, yhat)\n",
        "\n",
        "f1_score = (2 * pre.result().numpy() * re.result())/(pre.result().numpy() + re.result())\n",
        "\n",
        "print('For Test: ')\n",
        "print(f'Precision: {pre.result().numpy()}, Recall: {re.result().numpy()}, Accuracy: {acc.result().numpy()}, F1 Score: {f1_score}')\n"
      ],
      "metadata": {
        "colab": {
          "base_uri": "https://localhost:8080/"
        },
        "id": "Lzz3mtivWqB2",
        "outputId": "c4c78307-bd15-4c6a-bc94-9d5ab88db4a7"
      },
      "execution_count": null,
      "outputs": [
        {
          "output_type": "stream",
          "name": "stdout",
          "text": [
            "For Validation: \n",
            "Precision: 0.4545454680919647, Recall: 1.0, Accuracy: 0.699999988079071, F1 Score: 0.625\n"
          ]
        }
      ]
    },
    {
      "cell_type": "markdown",
      "source": [
        "This function allows to calculate prediction valuues for test and validation."
      ],
      "metadata": {
        "id": "B6-7zTrrZRDU"
      }
    },
    {
      "cell_type": "code",
      "source": [
        "pred = model.predict(validation_generator)\n",
        "test_pred = model.predict(test_generator)\n",
        "\n",
        "#pred = model.predict( test_generator )\n",
        "\n",
        "print(\"validation predictions:\\n\")\n",
        "\n",
        "def countpredictions(predictions, gw = 0, ngw = 0):\n",
        "  for pred in predictions:\n",
        "    if pred > 0.5:\n",
        "      ngw += 1\n",
        "    else:\n",
        "      gw += 1\n",
        "  return gw, ngw\n",
        "\n",
        "print(countpredictions(pred, 0, 0))\n",
        "\n",
        "print(\"\\ntest predictions:\\n\")\n",
        "\n",
        "def countpredictions(predictions, gw = 0, ngw = 0):\n",
        "  for test_pred in predictions:\n",
        "    if test_pred > 0.5:\n",
        "      ngw += 1\n",
        "    else:\n",
        "      gw += 1\n",
        "  return gw, ngw\n",
        "\n",
        "print(countpredictions(test_pred, 0, 0))\n"
      ],
      "metadata": {
        "colab": {
          "base_uri": "https://localhost:8080/"
        },
        "id": "1M9nNTs-WqHf",
        "outputId": "7bd790b4-ae20-42da-b11e-ecc9e76ea857"
      },
      "execution_count": null,
      "outputs": [
        {
          "output_type": "stream",
          "name": "stdout",
          "text": [
            "validation predictions:\n",
            "\n",
            "(71, 69)\n",
            "\n",
            "test predictions:\n",
            "\n",
            "(114, 122)\n"
          ]
        }
      ]
    },
    {
      "cell_type": "markdown",
      "source": [
        "This function allows to calculate Confusion Matrix after training."
      ],
      "metadata": {
        "id": "r3Bhd5_cZigZ"
      }
    },
    {
      "cell_type": "code",
      "source": [
        "import sklearn.metrics as metrics\n",
        "\n",
        "\n",
        "\n",
        "print(\"Confusion Matrix: \\n\")\n",
        "true_classes = validation_generator.classes\n",
        "class_labels = list(validation_generator.class_indices.keys())\n",
        "pred = np.round(pred)\n",
        "confusion_matrix = metrics.confusion_matrix(y_true=true_classes, y_pred=pred)\n",
        "confusion_matrix\n",
        "\n",
        "#true positives, false negatives\n",
        "#false positives, tru negatives"
      ],
      "metadata": {
        "colab": {
          "base_uri": "https://localhost:8080/"
        },
        "id": "CdEORBtVWqMK",
        "outputId": "75f92cf4-065f-4d14-fe30-020bc92c471e"
      },
      "execution_count": null,
      "outputs": [
        {
          "output_type": "stream",
          "name": "stdout",
          "text": [
            "Confusion Matrix: \n",
            "\n"
          ]
        },
        {
          "output_type": "execute_result",
          "data": {
            "text/plain": [
              "array([[34, 36],\n",
              "       [37, 33]])"
            ]
          },
          "metadata": {},
          "execution_count": 42
        }
      ]
    },
    {
      "cell_type": "markdown",
      "source": [
        "Visualize the learning rate changes that happened during training."
      ],
      "metadata": {
        "id": "xMe_8JWcZnSS"
      }
    },
    {
      "cell_type": "code",
      "source": [
        "nb_epoch = len(kh.history['loss'])\n",
        "learning_rate=kh.history['lr']\n",
        "xc=range(nb_epoch)\n",
        "plt.figure(3,figsize=(7,5))\n",
        "plt.plot(xc,learning_rate)\n",
        "plt.xlabel('num of Epochs')\n",
        "plt.ylabel('learning rate')\n",
        "plt.title('Learning rate')\n",
        "plt.grid(True)\n",
        "plt.style.use(['seaborn-ticks'])"
      ],
      "metadata": {
        "colab": {
          "base_uri": "https://localhost:8080/",
          "height": 349
        },
        "id": "dju8x86wZcM0",
        "outputId": "b1809dd3-f583-4cdf-9585-19bc44beb2df"
      },
      "execution_count": null,
      "outputs": [
        {
          "output_type": "display_data",
          "data": {
            "text/plain": [
              "<Figure size 504x360 with 1 Axes>"
            ],
            "image/png": "[encoded data removed]"
          },
          "metadata": {
            "needs_background": "light"
          }
        }
      ]
    }
  ],
  "metadata": {
    "accelerator": "GPU",
    "colab": {
      "collapsed_sections": [],
      "name": "Custom Model with LR SCheduler",
      "provenance": [],
      "include_colab_link": true
    },
    "gpuClass": "standard",
    "kernelspec": {
      "display_name": "Python 3",
      "name": "python3"
    },
    "language_info": {
      "name": "python"
    }
  },
  "nbformat": 4,
  "nbformat_minor": 0
}