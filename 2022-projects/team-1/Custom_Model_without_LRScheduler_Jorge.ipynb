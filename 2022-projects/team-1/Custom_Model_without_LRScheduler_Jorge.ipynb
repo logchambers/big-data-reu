{
  "cells": [
    {
      "cell_type": "markdown",
      "metadata": {
        "id": "view-in-github",
        "colab_type": "text"
      },
      "source": [
        "<a href=\"https://colab.research.google.com/github/logchambers/REU-Team-1/blob/main/Custom_Model_without_LRScheduler_Jorge.ipynb\" target=\"_parent\"><img src=\"https://colab.research.google.com/assets/colab-badge.svg\" alt=\"Open In Colab\"/></a>"
      ]
    },
    {
      "cell_type": "markdown",
      "metadata": {
        "id": "Y0dsE_PRx43g"
      },
      "source": [
        "Connect to google drive"
      ]
    },
    {
      "cell_type": "code",
      "execution_count": null,
      "metadata": {
        "colab": {
          "base_uri": "https://localhost:8080/"
        },
        "id": "rOfGlTRwvREg",
        "outputId": "256ccff5-c1cd-4be7-8cd9-6038e7fff42b"
      },
      "outputs": [
        {
          "output_type": "stream",
          "name": "stdout",
          "text": [
            "Mounted at /content/drive\n"
          ]
        }
      ],
      "source": [
        "from google.colab import drive\n",
        "drive.mount('/content/drive')"
      ]
    },
    {
      "cell_type": "code",
      "execution_count": null,
      "metadata": {
        "colab": {
          "base_uri": "https://localhost:8080/"
        },
        "id": "XNKk7P6_vUMX",
        "outputId": "0f784834-f747-4a49-cace-eddb43a0b913"
      },
      "outputs": [
        {
          "output_type": "stream",
          "name": "stdout",
          "text": [
            "Looking in indexes: https://pypi.org/simple, https://us-python.pkg.dev/colab-wheels/public/simple/\n",
            "Collecting preprocess\n",
            "  Downloading preprocess-2.0.0-py3-none-any.whl (12 kB)\n",
            "Requirement already satisfied: future in /usr/local/lib/python3.7/dist-packages (from preprocess) (0.16.0)\n",
            "Installing collected packages: preprocess\n",
            "Successfully installed preprocess-2.0.0\n",
            "Looking in indexes: https://pypi.org/simple, https://us-python.pkg.dev/colab-wheels/public/simple/\n",
            "Collecting mxnet-cu101==1.7.0\n",
            "  Downloading mxnet_cu101-1.7.0-py2.py3-none-manylinux2014_x86_64.whl (846.0 MB)\n",
            "\u001b[K     |███████████████████████████████▌| 834.1 MB 1.2 MB/s eta 0:00:10tcmalloc: large alloc 1147494400 bytes == 0x3a5c6000 @  0x7f0b0f28c615 0x592b76 0x4df71e 0x59afff 0x515655 0x549576 0x593fce 0x548ae9 0x51566f 0x549576 0x593fce 0x548ae9 0x5127f1 0x598e3b 0x511f68 0x598e3b 0x511f68 0x598e3b 0x511f68 0x4bc98a 0x532e76 0x594b72 0x515600 0x549576 0x593fce 0x548ae9 0x5127f1 0x549576 0x593fce 0x5118f8 0x593dd7\n",
            "\u001b[K     |████████████████████████████████| 846.0 MB 21 kB/s \n",
            "\u001b[?25hCollecting graphviz<0.9.0,>=0.8.1\n",
            "  Downloading graphviz-0.8.4-py2.py3-none-any.whl (16 kB)\n",
            "Requirement already satisfied: requests<3,>=2.20.0 in /usr/local/lib/python3.7/dist-packages (from mxnet-cu101==1.7.0) (2.23.0)\n",
            "Requirement already satisfied: numpy<2.0.0,>1.16.0 in /usr/local/lib/python3.7/dist-packages (from mxnet-cu101==1.7.0) (1.21.6)\n",
            "Requirement already satisfied: urllib3!=1.25.0,!=1.25.1,<1.26,>=1.21.1 in /usr/local/lib/python3.7/dist-packages (from requests<3,>=2.20.0->mxnet-cu101==1.7.0) (1.24.3)\n",
            "Requirement already satisfied: chardet<4,>=3.0.2 in /usr/local/lib/python3.7/dist-packages (from requests<3,>=2.20.0->mxnet-cu101==1.7.0) (3.0.4)\n",
            "Requirement already satisfied: idna<3,>=2.5 in /usr/local/lib/python3.7/dist-packages (from requests<3,>=2.20.0->mxnet-cu101==1.7.0) (2.10)\n",
            "Requirement already satisfied: certifi>=2017.4.17 in /usr/local/lib/python3.7/dist-packages (from requests<3,>=2.20.0->mxnet-cu101==1.7.0) (2022.6.15)\n",
            "Installing collected packages: graphviz, mxnet-cu101\n",
            "  Attempting uninstall: graphviz\n",
            "    Found existing installation: graphviz 0.10.1\n",
            "    Uninstalling graphviz-0.10.1:\n",
            "      Successfully uninstalled graphviz-0.10.1\n",
            "Successfully installed graphviz-0.8.4 mxnet-cu101-1.7.0\n",
            "Looking in indexes: https://pypi.org/simple, https://us-python.pkg.dev/colab-wheels/public/simple/\n",
            "Collecting d2l==1.0.0-alpha0\n",
            "  Downloading d2l-1.0.0a0-py3-none-any.whl (92 kB)\n",
            "\u001b[K     |████████████████████████████████| 92 kB 1.1 MB/s \n",
            "\u001b[?25hRequirement already satisfied: matplotlib in /usr/local/lib/python3.7/dist-packages (from d2l==1.0.0-alpha0) (3.2.2)\n",
            "Requirement already satisfied: numpy in /usr/local/lib/python3.7/dist-packages (from d2l==1.0.0-alpha0) (1.21.6)\n",
            "Requirement already satisfied: gym in /usr/local/lib/python3.7/dist-packages (from d2l==1.0.0-alpha0) (0.17.3)\n",
            "Requirement already satisfied: jupyter in /usr/local/lib/python3.7/dist-packages (from d2l==1.0.0-alpha0) (1.0.0)\n",
            "Requirement already satisfied: pandas in /usr/local/lib/python3.7/dist-packages (from d2l==1.0.0-alpha0) (1.3.5)\n",
            "Requirement already satisfied: requests in /usr/local/lib/python3.7/dist-packages (from d2l==1.0.0-alpha0) (2.23.0)\n",
            "Requirement already satisfied: pyglet<=1.5.0,>=1.4.0 in /usr/local/lib/python3.7/dist-packages (from gym->d2l==1.0.0-alpha0) (1.5.0)\n",
            "Requirement already satisfied: cloudpickle<1.7.0,>=1.2.0 in /usr/local/lib/python3.7/dist-packages (from gym->d2l==1.0.0-alpha0) (1.3.0)\n",
            "Requirement already satisfied: scipy in /usr/local/lib/python3.7/dist-packages (from gym->d2l==1.0.0-alpha0) (1.7.3)\n",
            "Requirement already satisfied: future in /usr/local/lib/python3.7/dist-packages (from pyglet<=1.5.0,>=1.4.0->gym->d2l==1.0.0-alpha0) (0.16.0)\n",
            "Requirement already satisfied: ipykernel in /usr/local/lib/python3.7/dist-packages (from jupyter->d2l==1.0.0-alpha0) (4.10.1)\n",
            "Requirement already satisfied: jupyter-console in /usr/local/lib/python3.7/dist-packages (from jupyter->d2l==1.0.0-alpha0) (5.2.0)\n",
            "Requirement already satisfied: nbconvert in /usr/local/lib/python3.7/dist-packages (from jupyter->d2l==1.0.0-alpha0) (5.6.1)\n",
            "Requirement already satisfied: ipywidgets in /usr/local/lib/python3.7/dist-packages (from jupyter->d2l==1.0.0-alpha0) (7.7.1)\n",
            "Requirement already satisfied: qtconsole in /usr/local/lib/python3.7/dist-packages (from jupyter->d2l==1.0.0-alpha0) (5.3.1)\n",
            "Requirement already satisfied: notebook in /usr/local/lib/python3.7/dist-packages (from jupyter->d2l==1.0.0-alpha0) (5.3.1)\n",
            "Requirement already satisfied: ipython>=4.0.0 in /usr/local/lib/python3.7/dist-packages (from ipykernel->jupyter->d2l==1.0.0-alpha0) (5.5.0)\n",
            "Requirement already satisfied: traitlets>=4.1.0 in /usr/local/lib/python3.7/dist-packages (from ipykernel->jupyter->d2l==1.0.0-alpha0) (5.1.1)\n",
            "Requirement already satisfied: jupyter-client in /usr/local/lib/python3.7/dist-packages (from ipykernel->jupyter->d2l==1.0.0-alpha0) (5.3.5)\n",
            "Requirement already satisfied: tornado>=4.0 in /usr/local/lib/python3.7/dist-packages (from ipykernel->jupyter->d2l==1.0.0-alpha0) (5.1.1)\n",
            "Requirement already satisfied: simplegeneric>0.8 in /usr/local/lib/python3.7/dist-packages (from ipython>=4.0.0->ipykernel->jupyter->d2l==1.0.0-alpha0) (0.8.1)\n",
            "Requirement already satisfied: pexpect in /usr/local/lib/python3.7/dist-packages (from ipython>=4.0.0->ipykernel->jupyter->d2l==1.0.0-alpha0) (4.8.0)\n",
            "Requirement already satisfied: prompt-toolkit<2.0.0,>=1.0.4 in /usr/local/lib/python3.7/dist-packages (from ipython>=4.0.0->ipykernel->jupyter->d2l==1.0.0-alpha0) (1.0.18)\n",
            "Requirement already satisfied: setuptools>=18.5 in /usr/local/lib/python3.7/dist-packages (from ipython>=4.0.0->ipykernel->jupyter->d2l==1.0.0-alpha0) (57.4.0)\n",
            "Requirement already satisfied: decorator in /usr/local/lib/python3.7/dist-packages (from ipython>=4.0.0->ipykernel->jupyter->d2l==1.0.0-alpha0) (4.4.2)\n",
            "Requirement already satisfied: pickleshare in /usr/local/lib/python3.7/dist-packages (from ipython>=4.0.0->ipykernel->jupyter->d2l==1.0.0-alpha0) (0.7.5)\n",
            "Requirement already satisfied: pygments in /usr/local/lib/python3.7/dist-packages (from ipython>=4.0.0->ipykernel->jupyter->d2l==1.0.0-alpha0) (2.6.1)\n",
            "Requirement already satisfied: wcwidth in /usr/local/lib/python3.7/dist-packages (from prompt-toolkit<2.0.0,>=1.0.4->ipython>=4.0.0->ipykernel->jupyter->d2l==1.0.0-alpha0) (0.2.5)\n",
            "Requirement already satisfied: six>=1.9.0 in /usr/local/lib/python3.7/dist-packages (from prompt-toolkit<2.0.0,>=1.0.4->ipython>=4.0.0->ipykernel->jupyter->d2l==1.0.0-alpha0) (1.15.0)\n",
            "Requirement already satisfied: widgetsnbextension~=3.6.0 in /usr/local/lib/python3.7/dist-packages (from ipywidgets->jupyter->d2l==1.0.0-alpha0) (3.6.1)\n",
            "Requirement already satisfied: ipython-genutils~=0.2.0 in /usr/local/lib/python3.7/dist-packages (from ipywidgets->jupyter->d2l==1.0.0-alpha0) (0.2.0)\n",
            "Requirement already satisfied: jupyterlab-widgets>=1.0.0 in /usr/local/lib/python3.7/dist-packages (from ipywidgets->jupyter->d2l==1.0.0-alpha0) (1.1.1)\n",
            "Requirement already satisfied: jinja2 in /usr/local/lib/python3.7/dist-packages (from notebook->jupyter->d2l==1.0.0-alpha0) (2.11.3)\n",
            "Requirement already satisfied: nbformat in /usr/local/lib/python3.7/dist-packages (from notebook->jupyter->d2l==1.0.0-alpha0) (5.4.0)\n",
            "Requirement already satisfied: Send2Trash in /usr/local/lib/python3.7/dist-packages (from notebook->jupyter->d2l==1.0.0-alpha0) (1.8.0)\n",
            "Requirement already satisfied: terminado>=0.8.1 in /usr/local/lib/python3.7/dist-packages (from notebook->jupyter->d2l==1.0.0-alpha0) (0.13.3)\n",
            "Requirement already satisfied: jupyter-core>=4.4.0 in /usr/local/lib/python3.7/dist-packages (from notebook->jupyter->d2l==1.0.0-alpha0) (4.11.1)\n",
            "Requirement already satisfied: pyzmq>=13 in /usr/local/lib/python3.7/dist-packages (from jupyter-client->ipykernel->jupyter->d2l==1.0.0-alpha0) (23.2.0)\n",
            "Requirement already satisfied: python-dateutil>=2.1 in /usr/local/lib/python3.7/dist-packages (from jupyter-client->ipykernel->jupyter->d2l==1.0.0-alpha0) (2.8.2)\n",
            "Requirement already satisfied: ptyprocess in /usr/local/lib/python3.7/dist-packages (from terminado>=0.8.1->notebook->jupyter->d2l==1.0.0-alpha0) (0.7.0)\n",
            "Requirement already satisfied: MarkupSafe>=0.23 in /usr/local/lib/python3.7/dist-packages (from jinja2->notebook->jupyter->d2l==1.0.0-alpha0) (2.0.1)\n",
            "Requirement already satisfied: kiwisolver>=1.0.1 in /usr/local/lib/python3.7/dist-packages (from matplotlib->d2l==1.0.0-alpha0) (1.4.4)\n",
            "Requirement already satisfied: pyparsing!=2.0.4,!=2.1.2,!=2.1.6,>=2.0.1 in /usr/local/lib/python3.7/dist-packages (from matplotlib->d2l==1.0.0-alpha0) (3.0.9)\n",
            "Requirement already satisfied: cycler>=0.10 in /usr/local/lib/python3.7/dist-packages (from matplotlib->d2l==1.0.0-alpha0) (0.11.0)\n",
            "Requirement already satisfied: typing-extensions in /usr/local/lib/python3.7/dist-packages (from kiwisolver>=1.0.1->matplotlib->d2l==1.0.0-alpha0) (4.1.1)\n",
            "Requirement already satisfied: pandocfilters>=1.4.1 in /usr/local/lib/python3.7/dist-packages (from nbconvert->jupyter->d2l==1.0.0-alpha0) (1.5.0)\n",
            "Requirement already satisfied: bleach in /usr/local/lib/python3.7/dist-packages (from nbconvert->jupyter->d2l==1.0.0-alpha0) (5.0.1)\n",
            "Requirement already satisfied: defusedxml in /usr/local/lib/python3.7/dist-packages (from nbconvert->jupyter->d2l==1.0.0-alpha0) (0.7.1)\n",
            "Requirement already satisfied: testpath in /usr/local/lib/python3.7/dist-packages (from nbconvert->jupyter->d2l==1.0.0-alpha0) (0.6.0)\n",
            "Requirement already satisfied: mistune<2,>=0.8.1 in /usr/local/lib/python3.7/dist-packages (from nbconvert->jupyter->d2l==1.0.0-alpha0) (0.8.4)\n",
            "Requirement already satisfied: entrypoints>=0.2.2 in /usr/local/lib/python3.7/dist-packages (from nbconvert->jupyter->d2l==1.0.0-alpha0) (0.4)\n",
            "Requirement already satisfied: fastjsonschema in /usr/local/lib/python3.7/dist-packages (from nbformat->notebook->jupyter->d2l==1.0.0-alpha0) (2.16.1)\n",
            "Requirement already satisfied: jsonschema>=2.6 in /usr/local/lib/python3.7/dist-packages (from nbformat->notebook->jupyter->d2l==1.0.0-alpha0) (4.3.3)\n",
            "Requirement already satisfied: importlib-resources>=1.4.0 in /usr/local/lib/python3.7/dist-packages (from jsonschema>=2.6->nbformat->notebook->jupyter->d2l==1.0.0-alpha0) (5.9.0)\n",
            "Requirement already satisfied: pyrsistent!=0.17.0,!=0.17.1,!=0.17.2,>=0.14.0 in /usr/local/lib/python3.7/dist-packages (from jsonschema>=2.6->nbformat->notebook->jupyter->d2l==1.0.0-alpha0) (0.18.1)\n",
            "Requirement already satisfied: importlib-metadata in /usr/local/lib/python3.7/dist-packages (from jsonschema>=2.6->nbformat->notebook->jupyter->d2l==1.0.0-alpha0) (4.12.0)\n",
            "Requirement already satisfied: attrs>=17.4.0 in /usr/local/lib/python3.7/dist-packages (from jsonschema>=2.6->nbformat->notebook->jupyter->d2l==1.0.0-alpha0) (21.4.0)\n",
            "Requirement already satisfied: zipp>=3.1.0 in /usr/local/lib/python3.7/dist-packages (from importlib-resources>=1.4.0->jsonschema>=2.6->nbformat->notebook->jupyter->d2l==1.0.0-alpha0) (3.8.1)\n",
            "Requirement already satisfied: webencodings in /usr/local/lib/python3.7/dist-packages (from bleach->nbconvert->jupyter->d2l==1.0.0-alpha0) (0.5.1)\n",
            "Requirement already satisfied: pytz>=2017.3 in /usr/local/lib/python3.7/dist-packages (from pandas->d2l==1.0.0-alpha0) (2022.1)\n",
            "Requirement already satisfied: qtpy>=2.0.1 in /usr/local/lib/python3.7/dist-packages (from qtconsole->jupyter->d2l==1.0.0-alpha0) (2.1.0)\n",
            "Requirement already satisfied: packaging in /usr/local/lib/python3.7/dist-packages (from qtpy>=2.0.1->qtconsole->jupyter->d2l==1.0.0-alpha0) (21.3)\n",
            "Requirement already satisfied: idna<3,>=2.5 in /usr/local/lib/python3.7/dist-packages (from requests->d2l==1.0.0-alpha0) (2.10)\n",
            "Requirement already satisfied: certifi>=2017.4.17 in /usr/local/lib/python3.7/dist-packages (from requests->d2l==1.0.0-alpha0) (2022.6.15)\n",
            "Requirement already satisfied: urllib3!=1.25.0,!=1.25.1,<1.26,>=1.21.1 in /usr/local/lib/python3.7/dist-packages (from requests->d2l==1.0.0-alpha0) (1.24.3)\n",
            "Requirement already satisfied: chardet<4,>=3.0.2 in /usr/local/lib/python3.7/dist-packages (from requests->d2l==1.0.0-alpha0) (3.0.4)\n",
            "Installing collected packages: d2l\n",
            "Successfully installed d2l-1.0.0a0\n",
            "Looking in indexes: https://pypi.org/simple, https://us-python.pkg.dev/colab-wheels/public/simple/\n",
            "Requirement already satisfied: h5py in /usr/local/lib/python3.7/dist-packages (3.1.0)\n",
            "Requirement already satisfied: pyyaml in /usr/local/lib/python3.7/dist-packages (3.13)\n",
            "Requirement already satisfied: cached-property in /usr/local/lib/python3.7/dist-packages (from h5py) (1.5.2)\n",
            "Requirement already satisfied: numpy>=1.14.5 in /usr/local/lib/python3.7/dist-packages (from h5py) (1.21.6)\n"
          ]
        }
      ],
      "source": [
        "!pip install preprocess\n",
        "!pip install -U mxnet-cu101==1.7.0\n",
        "!pip install d2l==1.0.0-alpha0\n",
        "!pip install h5py pyyaml\n"
      ]
    },
    {
      "cell_type": "markdown",
      "metadata": {
        "id": "6AllCWdNy45L"
      },
      "source": [
        "Import requiered libraries"
      ]
    },
    {
      "cell_type": "code",
      "execution_count": null,
      "metadata": {
        "id": "FJJquGHave81"
      },
      "outputs": [],
      "source": [
        "%load_ext tensorboard\n",
        "import os\n",
        "import numpy as np\n",
        "import pandas as pd\n",
        "import matplotlib.pyplot as plt\n",
        "import preprocess as pp\n",
        "import cv2\n",
        "\n",
        "from tensorflow import keras\n",
        "from tensorflow.keras.datasets import cifar10\n",
        "from tensorflow.keras import models, layers\n",
        "from tensorflow.keras.models import Model, Sequential\n",
        "from tensorflow.keras.layers import Input, Dense, Dropout, Flatten, Activation\n",
        "from tensorflow.keras.layers import BatchNormalization\n",
        "from tensorflow.keras import optimizers\n",
        "from tensorflow.keras.preprocessing import sequence\n",
        "from tensorflow.keras.preprocessing.image import ImageDataGenerator, array_to_img, img_to_array, load_img\n",
        "\n",
        "import  PIL.Image"
      ]
    },
    {
      "cell_type": "markdown",
      "metadata": {
        "id": "TGNEUx_wzEUN"
      },
      "source": [
        "Using tf.config.list_physical_devices('GPU') to confirm that TensorFlow is using the GPU.\n",
        "\n",
        "Also limiting the GPU consumption"
      ]
    },
    {
      "cell_type": "code",
      "execution_count": null,
      "metadata": {
        "colab": {
          "base_uri": "https://localhost:8080/"
        },
        "id": "bQMidZDZQBWp",
        "outputId": "34d722b2-2dd5-4b8c-8e6c-0d318b96bc70"
      },
      "outputs": [
        {
          "output_type": "stream",
          "name": "stdout",
          "text": [
            "Num GPUs Available:  1\n"
          ]
        }
      ],
      "source": [
        "import tensorflow as tf\n",
        "\n",
        "physical_devices = tf.config.experimental.list_physical_devices('GPU')\n",
        "print(\"Num GPUs Available: \", len(physical_devices))\n",
        "tf.config.experimental.set_memory_growth(physical_devices[0], True)"
      ]
    },
    {
      "cell_type": "markdown",
      "metadata": {
        "id": "Se-dESee0l5a"
      },
      "source": [
        "Import the labeled dataset from  NASA’s LAADS DAAC\n",
        "archives. \n",
        "\n",
        "Fast Fourier Transform has been applied to the images in the dataset for denoising."
      ]
    },
    {
      "cell_type": "code",
      "execution_count": null,
      "metadata": {
        "colab": {
          "base_uri": "https://localhost:8080/"
        },
        "id": "kC7XqyjBvhhW",
        "outputId": "ec6abb43-3428-4b4a-ac5f-66e2fc8df2ff"
      },
      "outputs": [
        {
          "output_type": "stream",
          "name": "stdout",
          "text": [
            "/content/drive/MyDrive/fft-denoised\n"
          ]
        }
      ],
      "source": [
        "data_path = ('/content/drive/MyDrive/fft-denoised/')\n",
        "\n",
        "#data_path = ('/content/drive/MyDrive/Big Data REU 2022 Team 1/REU 2022 Research/Datasets/new-test-data_Seraj/fft-denoised')\n",
        "img_path= data_path\n",
        "\n",
        "os.chdir(img_path)\n",
        "print(os.path.abspath(os.getcwd()))\n"
      ]
    },
    {
      "cell_type": "markdown",
      "metadata": {
        "id": "3A8_7pz61YRq"
      },
      "source": [
        "Loading the pre-trained model Inception V3, which is trained with imagenet dataset.\n",
        "\n",
        "All layers in the Inception V3 has been assigned to not be trainable.\n"
      ]
    },
    {
      "cell_type": "code",
      "execution_count": null,
      "metadata": {
        "id": "GBhVkfO1vjwX",
        "colab": {
          "base_uri": "https://localhost:8080/"
        },
        "outputId": "5814ae0b-6576-4177-cf34-c8fb14a03616"
      },
      "outputs": [
        {
          "output_type": "stream",
          "name": "stdout",
          "text": [
            "Downloading data from https://storage.googleapis.com/tensorflow/keras-applications/inception_v3/inception_v3_weights_tf_dim_ordering_tf_kernels_notop.h5\n",
            "87916544/87910968 [==============================] - 3s 0us/step\n",
            "87924736/87910968 [==============================] - 3s 0us/step\n"
          ]
        }
      ],
      "source": [
        "from tensorflow.keras.applications.inception_v3 import InceptionV3\n",
        "import tensorflow as tf\n",
        "\n",
        "from keras import regularizers\n",
        "from keras.models import Model\n",
        "\n",
        "\n",
        "base_model = InceptionV3(input_shape = (256,256,3), include_top = False, weights = 'imagenet')\n",
        "\n",
        "# Freeze all the layers\n",
        "for layer in base_model.layers:\n",
        "  layer.trainable = False\n",
        "\n",
        "# Check the trainable status of the individual layers\n",
        "\n",
        "#for layer in base_model.layers:\n",
        "  #print(layer, layer.trainable)\n",
        "\n",
        "#base_model.summary()"
      ]
    },
    {
      "cell_type": "markdown",
      "metadata": {
        "id": "8IRVaga-1xlf"
      },
      "source": [
        "Split the model up to the module mixed7.\n",
        "\n",
        "Assigned 'mixed7' as the last layer from the model, thus the rest of the layers won't be used during training or evaluation.\n",
        "\n",
        "The reason for that is because for the Inception Model V3, the largest feature map is produced by this layer, and further layers have lower dimensions. So for the purpose of feature extraction, we want to use the feature map with the most dimensions possible."
      ]
    },
    {
      "cell_type": "code",
      "execution_count": null,
      "metadata": {
        "colab": {
          "base_uri": "https://localhost:8080/"
        },
        "id": "QCQlVKBovmL8",
        "outputId": "c1d02426-1098-4ad1-ea4e-f6002206b77f"
      },
      "outputs": [
        {
          "output_type": "stream",
          "name": "stdout",
          "text": [
            "last layer output shape:  (None, 14, 14, 768)\n"
          ]
        }
      ],
      "source": [
        "last_layer = base_model.get_layer('mixed7')\n",
        "print('last layer output shape: ', last_layer.output_shape)\n",
        "last_output = last_layer.output\n"
      ]
    },
    {
      "cell_type": "markdown",
      "metadata": {
        "id": "PeeujyT22WYx"
      },
      "source": [
        "Applied regularizers to all Conv2D layers"
      ]
    },
    {
      "cell_type": "code",
      "execution_count": null,
      "metadata": {
        "id": "x69MD0mWvnK4"
      },
      "outputs": [],
      "source": [
        "\n",
        "for layer in base_model.layers:\n",
        "  if layer.__class__.__name__ == 'Conv2D':\n",
        "    layer.kernel_regularizer = keras.regularizers.l1(0.0001)\n",
        "    layer.kernel_regularizer = keras.regularizers.l2(0.0001)\n",
        "\n",
        "    #tf.keras.regularizers.L1L2(l1=0.01, l2=0.01)  # L1 + L2 penalties"
      ]
    },
    {
      "cell_type": "markdown",
      "source": [
        "Defining the custom trainable layers."
      ],
      "metadata": {
        "id": "MYtyoVckhGTy"
      }
    },
    {
      "cell_type": "code",
      "execution_count": null,
      "metadata": {
        "id": "z-_mwxyFOLs5"
      },
      "outputs": [],
      "source": [
        "from tensorflow.keras import activations\n",
        "from tensorflow.keras.optimizers import RMSprop, SGD, Adam\n",
        "from tensorflow.keras.layers import Conv2D, Convolution2D, MaxPooling2D, AveragePooling2D, GlobalAveragePooling2D\n",
        "import tensorflow as tf\n",
        "from tensorflow.keras.callbacks import EarlyStopping\n",
        "from tensorflow.keras.utils import plot_model\n",
        "\n",
        "\n",
        "\n",
        "def model_call():\n",
        "\n",
        "\n",
        "  x = layers.Flatten()(last_output) #mixed 7\n",
        "\n",
        "  # Add a fully connected layer with 1,024 hidden units and ReLU activation\n",
        "\n",
        "  x = layers.Dense(1024, activation='relu')(x)\n",
        "\n",
        "  x = layers.Dropout(0.3)(x)      \n",
        "\n",
        "  # Add a final sigmoid layer for classification\n",
        "  x = layers.Dense(1, activation='sigmoid')(x)         \n",
        "\n",
        "  model = Model(base_model.input, x)\n",
        "\n",
        "  \n",
        "        \n",
        "  model.compile(optimizer = Adam(lr=1e-04),\n",
        "  #model.compile(optimizer = Adam(lr=1e-06),\n",
        "                loss = 'binary_crossentropy', \n",
        "                metrics = ['accuracy'])\n",
        "  \n",
        "\n",
        "\n",
        "  return model\n"
      ]
    },
    {
      "cell_type": "code",
      "execution_count": null,
      "metadata": {
        "id": "y9tUmSzLqHfA"
      },
      "outputs": [],
      "source": [
        "#model.summary()"
      ]
    },
    {
      "cell_type": "markdown",
      "metadata": {
        "id": "nw4guykK2d02"
      },
      "source": [
        "This callback function will simply prompt, during training, your validation accuracy % \n",
        "\n",
        "if validation accuracy achieves over 90%, 93% it will be notified during training.\n",
        "if validation accuracy is higher than 94%, it will stop training.\n",
        "\n",
        "For training, if you achieve 100% or 95% training accuracy, it will be notified during training."
      ]
    },
    {
      "cell_type": "code",
      "execution_count": null,
      "metadata": {
        "id": "MoPI007BXBn6"
      },
      "outputs": [],
      "source": [
        "class myCallback(tf.keras.callbacks.Callback):\n",
        "  def on_epoch_end(self, epoch, logs={}):\n",
        "\n",
        "    if(logs.get('accuracy')>0.99):\n",
        "      print(\"\\nReached 99% accuracy so cancelling training!\")\n",
        "      self.model.stop_training = True\n",
        "\n",
        "    elif(logs.get('val_accuracy')>0.9499):\n",
        "      print(\"\\nReached 95% or more validation accuracy, training finished.\")\n",
        "      self.model.stop_training = True\n",
        "\n",
        "    elif(logs.get('val_accuracy')>0.93):\n",
        "      print(f\"\\nReached 93% validation accuracy mark!!!\")\n",
        "      \n",
        "    elif(logs.get('val_accuracy')>0.8999):\n",
        "      print(f\"\\nReached 90% validation accuracy mark!\")\n",
        "\n",
        "    #elif(logs.get('accuracy')>0.9499):\n",
        "     # print(f\"\\nReached 95%  accuracy!\")\n",
        "      \n",
        "      \n",
        "      \n",
        "accstop = myCallback()"
      ]
    },
    {
      "cell_type": "markdown",
      "metadata": {
        "id": "yyQUkyDG3CBF"
      },
      "source": [
        "Defined the data generators for the train class, test class and validation class respectively.\n",
        "\n",
        "Also applied Data Augmentation.\n",
        "\n",
        "Class mode is set to binary since we are interested only in two types of output, true or false.\n"
      ]
    },
    {
      "cell_type": "code",
      "execution_count": null,
      "metadata": {
        "colab": {
          "base_uri": "https://localhost:8080/"
        },
        "id": "zYcH07DPvptN",
        "outputId": "533e3205-2daa-4f37-a8aa-23b9e660f2a0"
      },
      "outputs": [
        {
          "output_type": "stream",
          "name": "stdout",
          "text": [
            "Found 710 images belonging to 2 classes.\n"
          ]
        },
        {
          "output_type": "stream",
          "name": "stderr",
          "text": [
            "/usr/local/lib/python3.7/dist-packages/ipykernel_launcher.py:32: VisibleDeprecationWarning: Creating an ndarray from ragged nested sequences (which is a list-or-tuple of lists-or-tuples-or ndarrays with different lengths or shapes) is deprecated. If you meant to do this, you must specify 'dtype=object' when creating the ndarray.\n"
          ]
        },
        {
          "output_type": "stream",
          "name": "stdout",
          "text": [
            "Found 140 images belonging to 2 classes.\n",
            "Found 236 images belonging to 2 classes.\n"
          ]
        },
        {
          "output_type": "stream",
          "name": "stderr",
          "text": [
            "/usr/local/lib/python3.7/dist-packages/ipykernel_launcher.py:67: VisibleDeprecationWarning: Creating an ndarray from ragged nested sequences (which is a list-or-tuple of lists-or-tuples-or ndarrays with different lengths or shapes) is deprecated. If you meant to do this, you must specify 'dtype=object' when creating the ndarray.\n"
          ]
        }
      ],
      "source": [
        "\n",
        "batch_size = 35 #Defined batch size\n",
        "\n",
        "\n",
        "train_datagen = ImageDataGenerator(\n",
        "        width_shift_range = 0.2,\n",
        "        rescale=1/255,\n",
        "        shear_range=0.2,\n",
        "        horizontal_flip=True,\n",
        "        )\n",
        "\n",
        "\n",
        "test_datagen = ImageDataGenerator(\n",
        "        rescale=1/255)\n",
        "\n",
        "train_generator = train_datagen.flow_from_directory(\n",
        "        './train',\n",
        "        target_size=(256, 256),\n",
        "        batch_size= batch_size,\n",
        "        #shuffle = True,\n",
        "        class_mode='binary')\n",
        "\n",
        "\n",
        "\n",
        "train_list = []\n",
        "batch_index = 0\n",
        "while batch_index <= train_generator.batch_index:\n",
        "  train = train_generator.next()\n",
        "  train_list.append(train[0])\n",
        "  batch_index = batch_index + 1\n",
        "\n",
        "train_array = np.asarray(train_list)\n",
        "\n",
        "\n",
        "validation_generator = train_datagen.flow_from_directory(\n",
        "        './validation',\n",
        "        target_size=(256, 256),\n",
        "        batch_size= 35,\n",
        "        class_mode='binary')\n",
        "\n",
        "\n",
        "validation_list = []\n",
        "batch_index = 0\n",
        "while batch_index <= validation_generator.batch_index:\n",
        "  validation = validation_generator.next()\n",
        "  validation_list.append(validation[0])\n",
        "  batch_index = batch_index + 1\n",
        "\n",
        "validation_array = np.asarray(validation_list)\n",
        "\n",
        "\n",
        "test_generator = test_datagen.flow_from_directory(\n",
        "        './test',\n",
        "        target_size=(256, 256),\n",
        "        batch_size= batch_size,\n",
        "        class_mode= 'binary')\n",
        "\n",
        "\n",
        "\n",
        "test_list = []\n",
        "batch_index = 0\n",
        "while batch_index <= test_generator.batch_index:\n",
        "  test = test_generator.next()\n",
        "  test_list.append(test[0])\n",
        "  batch_index = batch_index + 1 \n",
        "\n",
        "test_array = np.asarray(test_list)\n",
        "\n"
      ]
    },
    {
      "cell_type": "code",
      "execution_count": null,
      "metadata": {
        "id": "hyr5MYInMutR"
      },
      "outputs": [],
      "source": [
        "model1 = model_call()\n",
        "\n",
        "plot_model(model1, to_file='model_plot.png', show_shapes=True, show_layer_names=True) \n",
        "\n",
        " "
      ]
    },
    {
      "cell_type": "code",
      "source": [
        "from tensorflow.keras import callbacks\n",
        "\n",
        "test_acc_per_fold = []; test_loss_per_fold = []\n",
        "\n",
        "model = model_call()\n",
        "epoch = 300\n",
        "\n",
        "\n",
        "kh = model.fit(        \n",
        "        train_generator,\n",
        "        steps_per_epoch= 3,\n",
        "        #steps_per_epoch= 120 // batch_size,\n",
        "        epochs = epoch,\n",
        "        validation_data=validation_generator,\n",
        "        callbacks = [accstop],\n",
        "        validation_steps= 1\n",
        "        #validation_steps= 32 // batch_size\n",
        "        )\n",
        "   \n",
        "scores = model.evaluate(train_generator, verbose=0)\n",
        "\n",
        "results = model.evaluate(validation_generator, verbose = 0)\n",
        "\n",
        "test_results = model.evaluate(test_generator, verbose = 0)\n",
        "\n",
        "best_acc = max(kh.history['accuracy']); best_loss = min(kh.history['loss']); best_val_acc = max(kh.history['val_accuracy']); best_val_loss = min(kh.history['val_loss'])\n"
      ],
      "metadata": {
        "colab": {
          "base_uri": "https://localhost:8080/"
        },
        "id": "6i2f2FJx7dHp",
        "outputId": "848d7792-a4ce-4fd6-9e10-9b66b071db3d"
      },
      "execution_count": null,
      "outputs": [
        {
          "metadata": {
            "tags": null
          },
          "name": "stderr",
          "output_type": "stream",
          "text": [
            "/usr/local/lib/python3.7/dist-packages/keras/optimizer_v2/adam.py:105: UserWarning: The `lr` argument is deprecated, use `learning_rate` instead.\n",
            "  super(Adam, self).__init__(name, **kwargs)\n"
          ]
        },
        {
          "output_type": "stream",
          "name": "stdout",
          "text": [
            "Epoch 1/300\n",
            "3/3 [==============================] - 11s 3s/step - loss: 1.8031 - accuracy: 0.5048 - val_loss: 1.8663 - val_accuracy: 0.4000\n",
            "Epoch 2/300\n",
            "3/3 [==============================] - 6s 2s/step - loss: 1.0786 - accuracy: 0.5810 - val_loss: 0.8162 - val_accuracy: 0.5143\n",
            "Epoch 3/300\n",
            "3/3 [==============================] - 6s 3s/step - loss: 0.6243 - accuracy: 0.6476 - val_loss: 0.4803 - val_accuracy: 0.7714\n",
            "Epoch 4/300\n",
            "3/3 [==============================] - 5s 2s/step - loss: 0.6190 - accuracy: 0.6750 - val_loss: 0.4759 - val_accuracy: 0.8286\n",
            "Epoch 5/300\n",
            "3/3 [==============================] - 6s 3s/step - loss: 0.5037 - accuracy: 0.7333 - val_loss: 0.7076 - val_accuracy: 0.6286\n",
            "Epoch 6/300\n",
            "3/3 [==============================] - 6s 3s/step - loss: 0.6270 - accuracy: 0.6571 - val_loss: 0.5360 - val_accuracy: 0.7429\n",
            "Epoch 7/300\n",
            "3/3 [==============================] - 6s 3s/step - loss: 0.5059 - accuracy: 0.7524 - val_loss: 0.7232 - val_accuracy: 0.5143\n",
            "Epoch 8/300\n",
            "3/3 [==============================] - 6s 2s/step - loss: 0.5425 - accuracy: 0.7619 - val_loss: 0.7926 - val_accuracy: 0.6571\n",
            "Epoch 9/300\n",
            "3/3 [==============================] - 7s 3s/step - loss: 0.5253 - accuracy: 0.7524 - val_loss: 0.6073 - val_accuracy: 0.6571\n",
            "Epoch 10/300\n",
            "3/3 [==============================] - 6s 3s/step - loss: 0.5242 - accuracy: 0.7048 - val_loss: 0.5942 - val_accuracy: 0.6000\n",
            "Epoch 11/300\n",
            "3/3 [==============================] - 6s 2s/step - loss: 0.5003 - accuracy: 0.7524 - val_loss: 0.4992 - val_accuracy: 0.7429\n",
            "Epoch 12/300\n",
            "3/3 [==============================] - 5s 2s/step - loss: 0.5088 - accuracy: 0.7375 - val_loss: 0.5193 - val_accuracy: 0.7429\n",
            "Epoch 13/300\n",
            "3/3 [==============================] - 6s 3s/step - loss: 0.5974 - accuracy: 0.7238 - val_loss: 0.6172 - val_accuracy: 0.7429\n",
            "Epoch 14/300\n",
            "3/3 [==============================] - 6s 3s/step - loss: 0.4765 - accuracy: 0.7524 - val_loss: 0.5048 - val_accuracy: 0.7429\n",
            "Epoch 15/300\n",
            "3/3 [==============================] - 6s 3s/step - loss: 0.4646 - accuracy: 0.8286 - val_loss: 0.6095 - val_accuracy: 0.7143\n",
            "Epoch 16/300\n",
            "3/3 [==============================] - 6s 3s/step - loss: 0.5349 - accuracy: 0.7524 - val_loss: 0.5869 - val_accuracy: 0.6286\n",
            "Epoch 17/300\n",
            "3/3 [==============================] - 6s 2s/step - loss: 0.5219 - accuracy: 0.7429 - val_loss: 0.6425 - val_accuracy: 0.6286\n",
            "Epoch 18/300\n",
            "3/3 [==============================] - 6s 2s/step - loss: 0.4421 - accuracy: 0.8571 - val_loss: 0.5466 - val_accuracy: 0.7429\n",
            "Epoch 19/300\n",
            "3/3 [==============================] - 6s 3s/step - loss: 0.3966 - accuracy: 0.8095 - val_loss: 0.4202 - val_accuracy: 0.7714\n",
            "Epoch 20/300\n",
            "3/3 [==============================] - 7s 3s/step - loss: 0.3726 - accuracy: 0.8762 - val_loss: 0.3291 - val_accuracy: 0.8857\n",
            "Epoch 21/300\n",
            "3/3 [==============================] - 6s 2s/step - loss: 0.4313 - accuracy: 0.8381 - val_loss: 0.5639 - val_accuracy: 0.6571\n",
            "Epoch 22/300\n",
            "3/3 [==============================] - 6s 3s/step - loss: 0.4572 - accuracy: 0.7714 - val_loss: 0.6080 - val_accuracy: 0.7429\n",
            "Epoch 23/300\n",
            "3/3 [==============================] - 6s 2s/step - loss: 0.5782 - accuracy: 0.7333 - val_loss: 0.4417 - val_accuracy: 0.8286\n",
            "Epoch 24/300\n",
            "3/3 [==============================] - 6s 2s/step - loss: 0.3622 - accuracy: 0.8381 - val_loss: 0.6701 - val_accuracy: 0.6571\n",
            "Epoch 25/300\n",
            "3/3 [==============================] - 6s 2s/step - loss: 0.3382 - accuracy: 0.8667 - val_loss: 0.5304 - val_accuracy: 0.7429\n",
            "Epoch 26/300\n",
            "3/3 [==============================] - 6s 2s/step - loss: 0.3866 - accuracy: 0.8381 - val_loss: 0.6921 - val_accuracy: 0.6571\n",
            "Epoch 27/300\n",
            "3/3 [==============================] - 6s 3s/step - loss: 0.4143 - accuracy: 0.8286 - val_loss: 0.7214 - val_accuracy: 0.5714\n",
            "Epoch 28/300\n",
            "3/3 [==============================] - 6s 2s/step - loss: 0.3581 - accuracy: 0.8571 - val_loss: 0.6942 - val_accuracy: 0.6286\n",
            "Epoch 29/300\n",
            "3/3 [==============================] - 5s 2s/step - loss: 0.4321 - accuracy: 0.7875 - val_loss: 0.5178 - val_accuracy: 0.7714\n",
            "Epoch 30/300\n",
            "3/3 [==============================] - 6s 3s/step - loss: 0.3638 - accuracy: 0.8476 - val_loss: 0.4954 - val_accuracy: 0.8000\n",
            "Epoch 31/300\n",
            "3/3 [==============================] - 8s 3s/step - loss: 0.2998 - accuracy: 0.8667 - val_loss: 0.5473 - val_accuracy: 0.7143\n",
            "Epoch 32/300\n",
            "3/3 [==============================] - 5s 3s/step - loss: 0.3345 - accuracy: 0.8375 - val_loss: 0.5647 - val_accuracy: 0.6857\n",
            "Epoch 33/300\n",
            "3/3 [==============================] - 6s 3s/step - loss: 0.3240 - accuracy: 0.8762 - val_loss: 0.8751 - val_accuracy: 0.6000\n",
            "Epoch 34/300\n",
            "3/3 [==============================] - 6s 2s/step - loss: 0.5308 - accuracy: 0.7714 - val_loss: 0.6910 - val_accuracy: 0.6571\n",
            "Epoch 35/300\n",
            "3/3 [==============================] - 6s 2s/step - loss: 0.3425 - accuracy: 0.8381 - val_loss: 0.5087 - val_accuracy: 0.7143\n",
            "Epoch 36/300\n",
            "3/3 [==============================] - 7s 3s/step - loss: 0.3697 - accuracy: 0.8286 - val_loss: 0.4272 - val_accuracy: 0.7429\n",
            "Epoch 37/300\n",
            "3/3 [==============================] - 6s 3s/step - loss: 0.3626 - accuracy: 0.8286 - val_loss: 0.3549 - val_accuracy: 0.8857\n",
            "Epoch 38/300\n",
            "3/3 [==============================] - 6s 2s/step - loss: 0.4178 - accuracy: 0.8476 - val_loss: 0.5501 - val_accuracy: 0.7714\n",
            "Epoch 39/300\n",
            "3/3 [==============================] - 6s 3s/step - loss: 0.3449 - accuracy: 0.8381 - val_loss: 0.6906 - val_accuracy: 0.6571\n",
            "Epoch 40/300\n",
            "3/3 [==============================] - 6s 3s/step - loss: 0.2450 - accuracy: 0.8857 - val_loss: 0.5148 - val_accuracy: 0.8000\n",
            "Epoch 41/300\n",
            "3/3 [==============================] - 6s 3s/step - loss: 0.3486 - accuracy: 0.8476 - val_loss: 0.2826 - val_accuracy: 0.8857\n",
            "Epoch 42/300\n",
            "3/3 [==============================] - 7s 3s/step - loss: 0.3461 - accuracy: 0.8857 - val_loss: 0.5276 - val_accuracy: 0.6571\n",
            "Epoch 43/300\n",
            "3/3 [==============================] - 6s 3s/step - loss: 0.3475 - accuracy: 0.8571 - val_loss: 0.5754 - val_accuracy: 0.6857\n",
            "Epoch 44/300\n",
            "3/3 [==============================] - 6s 3s/step - loss: 0.3181 - accuracy: 0.8381 - val_loss: 0.6045 - val_accuracy: 0.7143\n",
            "Epoch 45/300\n",
            "3/3 [==============================] - 6s 2s/step - loss: 0.3879 - accuracy: 0.8381 - val_loss: 0.4930 - val_accuracy: 0.7714\n",
            "Epoch 46/300\n",
            "3/3 [==============================] - 6s 2s/step - loss: 0.3690 - accuracy: 0.8667 - val_loss: 0.6593 - val_accuracy: 0.7143\n",
            "Epoch 47/300\n",
            "3/3 [==============================] - 5s 3s/step - loss: 0.3270 - accuracy: 0.8875 - val_loss: 0.5802 - val_accuracy: 0.7429\n",
            "Epoch 48/300\n",
            "3/3 [==============================] - 6s 2s/step - loss: 0.3305 - accuracy: 0.8762 - val_loss: 0.5854 - val_accuracy: 0.7714\n",
            "Epoch 49/300\n",
            "3/3 [==============================] - 6s 3s/step - loss: 0.3064 - accuracy: 0.8571 - val_loss: 0.5407 - val_accuracy: 0.7714\n",
            "Epoch 50/300\n",
            "3/3 [==============================] - 5s 3s/step - loss: 0.3163 - accuracy: 0.8375 - val_loss: 0.6388 - val_accuracy: 0.6857\n",
            "Epoch 51/300\n",
            "3/3 [==============================] - 7s 3s/step - loss: 0.3718 - accuracy: 0.8476 - val_loss: 0.6624 - val_accuracy: 0.6857\n",
            "Epoch 52/300\n",
            "3/3 [==============================] - 6s 2s/step - loss: 0.2394 - accuracy: 0.9238 - val_loss: 0.8135 - val_accuracy: 0.5714\n",
            "Epoch 53/300\n",
            "3/3 [==============================] - 6s 3s/step - loss: 0.3254 - accuracy: 0.8762 - val_loss: 0.5137 - val_accuracy: 0.6857\n",
            "Epoch 54/300\n",
            "3/3 [==============================] - 6s 2s/step - loss: 0.3145 - accuracy: 0.8571 - val_loss: 0.7180 - val_accuracy: 0.7714\n",
            "Epoch 55/300\n",
            "3/3 [==============================] - 5s 2s/step - loss: 0.2434 - accuracy: 0.9000 - val_loss: 0.5409 - val_accuracy: 0.7143\n",
            "Epoch 56/300\n",
            "3/3 [==============================] - 6s 2s/step - loss: 0.3336 - accuracy: 0.8571 - val_loss: 0.3699 - val_accuracy: 0.8286\n",
            "Epoch 57/300\n",
            "3/3 [==============================] - 6s 2s/step - loss: 0.3006 - accuracy: 0.8762 - val_loss: 0.5506 - val_accuracy: 0.8000\n",
            "Epoch 58/300\n",
            "3/3 [==============================] - 6s 2s/step - loss: 0.2974 - accuracy: 0.8667 - val_loss: 0.5013 - val_accuracy: 0.6857\n",
            "Epoch 59/300\n",
            "3/3 [==============================] - 5s 2s/step - loss: 0.1718 - accuracy: 0.9375 - val_loss: 0.6475 - val_accuracy: 0.7429\n",
            "Epoch 60/300\n",
            "3/3 [==============================] - 6s 2s/step - loss: 0.3328 - accuracy: 0.8667 - val_loss: 0.6874 - val_accuracy: 0.6286\n",
            "Epoch 61/300\n",
            "3/3 [==============================] - 6s 3s/step - loss: 0.2510 - accuracy: 0.9048 - val_loss: 0.5589 - val_accuracy: 0.7714\n",
            "Epoch 62/300\n",
            "3/3 [==============================] - 6s 2s/step - loss: 0.2467 - accuracy: 0.8667 - val_loss: 0.9222 - val_accuracy: 0.6000\n",
            "Epoch 63/300\n",
            "3/3 [==============================] - 6s 2s/step - loss: 0.2504 - accuracy: 0.8952 - val_loss: 0.4706 - val_accuracy: 0.8286\n",
            "Epoch 64/300\n",
            "3/3 [==============================] - 6s 3s/step - loss: 0.2287 - accuracy: 0.9333 - val_loss: 0.5474 - val_accuracy: 0.7429\n",
            "Epoch 65/300\n",
            "3/3 [==============================] - 5s 2s/step - loss: 0.3015 - accuracy: 0.9000 - val_loss: 0.4662 - val_accuracy: 0.8857\n",
            "Epoch 66/300\n",
            "3/3 [==============================] - 6s 2s/step - loss: 0.3008 - accuracy: 0.8667 - val_loss: 0.6634 - val_accuracy: 0.7714\n",
            "Epoch 67/300\n",
            "3/3 [==============================] - 6s 3s/step - loss: 0.4344 - accuracy: 0.8095 - val_loss: 0.8776 - val_accuracy: 0.6857\n",
            "Epoch 68/300\n",
            "3/3 [==============================] - 6s 3s/step - loss: 0.4771 - accuracy: 0.8000 - val_loss: 0.5679 - val_accuracy: 0.7714\n",
            "Epoch 69/300\n",
            "3/3 [==============================] - 6s 3s/step - loss: 0.2067 - accuracy: 0.9143 - val_loss: 0.5520 - val_accuracy: 0.6857\n",
            "Epoch 70/300\n",
            "3/3 [==============================] - 6s 2s/step - loss: 0.3861 - accuracy: 0.7905 - val_loss: 0.6978 - val_accuracy: 0.6571\n",
            "Epoch 71/300\n",
            "3/3 [==============================] - 5s 2s/step - loss: 0.2255 - accuracy: 0.8750 - val_loss: 0.7379 - val_accuracy: 0.6571\n",
            "Epoch 72/300\n",
            "3/3 [==============================] - 6s 2s/step - loss: 0.4436 - accuracy: 0.8381 - val_loss: 0.3854 - val_accuracy: 0.8571\n",
            "Epoch 73/300\n",
            "3/3 [==============================] - 6s 3s/step - loss: 0.2949 - accuracy: 0.8571 - val_loss: 0.6793 - val_accuracy: 0.6571\n",
            "Epoch 74/300\n",
            "3/3 [==============================] - 5s 2s/step - loss: 0.3315 - accuracy: 0.8125 - val_loss: 0.5046 - val_accuracy: 0.7143\n",
            "Epoch 75/300\n",
            "3/3 [==============================] - 6s 3s/step - loss: 0.3063 - accuracy: 0.8571 - val_loss: 0.6507 - val_accuracy: 0.6571\n",
            "Epoch 76/300\n",
            "3/3 [==============================] - 6s 3s/step - loss: 0.2873 - accuracy: 0.9048 - val_loss: 0.6315 - val_accuracy: 0.6571\n",
            "Epoch 77/300\n",
            "3/3 [==============================] - 6s 2s/step - loss: 0.2920 - accuracy: 0.8571 - val_loss: 0.5121 - val_accuracy: 0.8000\n",
            "Epoch 78/300\n",
            "3/3 [==============================] - 6s 2s/step - loss: 0.2287 - accuracy: 0.8952 - val_loss: 0.4959 - val_accuracy: 0.8000\n",
            "Epoch 79/300\n",
            "3/3 [==============================] - 5s 3s/step - loss: 0.3073 - accuracy: 0.8625 - val_loss: 0.5195 - val_accuracy: 0.7714\n",
            "Epoch 80/300\n",
            "3/3 [==============================] - 6s 2s/step - loss: 0.2646 - accuracy: 0.9048 - val_loss: 0.4274 - val_accuracy: 0.7714\n",
            "Epoch 81/300\n",
            "3/3 [==============================] - 6s 2s/step - loss: 0.2740 - accuracy: 0.9048 - val_loss: 0.5449 - val_accuracy: 0.7143\n",
            "Epoch 82/300\n",
            "3/3 [==============================] - 6s 3s/step - loss: 0.2522 - accuracy: 0.8875 - val_loss: 0.5676 - val_accuracy: 0.7714\n",
            "Epoch 83/300\n",
            "3/3 [==============================] - 8s 3s/step - loss: 0.2086 - accuracy: 0.9333 - val_loss: 0.5750 - val_accuracy: 0.7714\n",
            "Epoch 84/300\n",
            "3/3 [==============================] - 6s 2s/step - loss: 0.1624 - accuracy: 0.9429 - val_loss: 0.6225 - val_accuracy: 0.7429\n",
            "Epoch 85/300\n",
            "3/3 [==============================] - 6s 2s/step - loss: 0.2041 - accuracy: 0.9143 - val_loss: 0.7168 - val_accuracy: 0.6571\n",
            "Epoch 86/300\n",
            "3/3 [==============================] - 5s 2s/step - loss: 0.2523 - accuracy: 0.8500 - val_loss: 0.7213 - val_accuracy: 0.7429\n",
            "Epoch 87/300\n",
            "3/3 [==============================] - 6s 2s/step - loss: 0.2371 - accuracy: 0.9238 - val_loss: 0.6790 - val_accuracy: 0.6571\n",
            "Epoch 88/300\n",
            "3/3 [==============================] - 6s 2s/step - loss: 0.2422 - accuracy: 0.9143 - val_loss: 0.2978 - val_accuracy: 0.8857\n",
            "Epoch 89/300\n",
            "3/3 [==============================] - 5s 3s/step - loss: 0.2800 - accuracy: 0.8625 - val_loss: 0.8591 - val_accuracy: 0.6857\n",
            "Epoch 90/300\n",
            "3/3 [==============================] - 6s 2s/step - loss: 0.3482 - accuracy: 0.8381 - val_loss: 0.5665 - val_accuracy: 0.7429\n",
            "Epoch 91/300\n",
            "3/3 [==============================] - 5s 2s/step - loss: 0.2326 - accuracy: 0.9125 - val_loss: 0.5225 - val_accuracy: 0.8000\n",
            "Epoch 92/300\n",
            "3/3 [==============================] - 6s 2s/step - loss: 0.1999 - accuracy: 0.9238 - val_loss: 0.6603 - val_accuracy: 0.7429\n",
            "Epoch 93/300\n",
            "3/3 [==============================] - 6s 2s/step - loss: 0.2427 - accuracy: 0.8952 - val_loss: 0.4572 - val_accuracy: 0.8286\n",
            "Epoch 94/300\n",
            "3/3 [==============================] - 6s 2s/step - loss: 0.1535 - accuracy: 0.9333 - val_loss: 0.6482 - val_accuracy: 0.6000\n",
            "Epoch 95/300\n",
            "3/3 [==============================] - 6s 2s/step - loss: 0.2476 - accuracy: 0.9048 - val_loss: 0.4448 - val_accuracy: 0.8000\n",
            "Epoch 96/300\n",
            "3/3 [==============================] - 8s 3s/step - loss: 0.3483 - accuracy: 0.8571 - val_loss: 0.4894 - val_accuracy: 0.8571\n",
            "Epoch 97/300\n",
            "3/3 [==============================] - 6s 2s/step - loss: 0.2596 - accuracy: 0.9048 - val_loss: 0.8635 - val_accuracy: 0.6857\n",
            "Epoch 98/300\n",
            "3/3 [==============================] - 6s 2s/step - loss: 0.1982 - accuracy: 0.9333 - val_loss: 0.7354 - val_accuracy: 0.6571\n",
            "Epoch 99/300\n",
            "3/3 [==============================] - 5s 3s/step - loss: 0.2518 - accuracy: 0.8750 - val_loss: 0.4444 - val_accuracy: 0.8000\n",
            "Epoch 100/300\n",
            "3/3 [==============================] - 6s 2s/step - loss: 0.2451 - accuracy: 0.8952 - val_loss: 0.6562 - val_accuracy: 0.7429\n",
            "Epoch 101/300\n",
            "3/3 [==============================] - 6s 2s/step - loss: 0.1995 - accuracy: 0.9333 - val_loss: 0.7820 - val_accuracy: 0.5429\n",
            "Epoch 102/300\n",
            "3/3 [==============================] - 6s 2s/step - loss: 0.2302 - accuracy: 0.9048 - val_loss: 0.6689 - val_accuracy: 0.7429\n",
            "Epoch 103/300\n",
            "3/3 [==============================] - 6s 2s/step - loss: 0.1648 - accuracy: 0.9429 - val_loss: 0.6917 - val_accuracy: 0.6571\n",
            "Epoch 104/300\n",
            "3/3 [==============================] - 6s 2s/step - loss: 0.2654 - accuracy: 0.8857 - val_loss: 0.8244 - val_accuracy: 0.6000\n",
            "Epoch 105/300\n",
            "3/3 [==============================] - 6s 2s/step - loss: 0.2588 - accuracy: 0.8857 - val_loss: 0.5276 - val_accuracy: 0.7714\n",
            "Epoch 106/300\n",
            "3/3 [==============================] - 5s 2s/step - loss: 0.3792 - accuracy: 0.8625 - val_loss: 0.5739 - val_accuracy: 0.7429\n",
            "Epoch 107/300\n",
            "3/3 [==============================] - 6s 3s/step - loss: 0.2593 - accuracy: 0.9048 - val_loss: 0.6136 - val_accuracy: 0.7429\n",
            "Epoch 108/300\n",
            "3/3 [==============================] - 6s 3s/step - loss: 0.1737 - accuracy: 0.9500 - val_loss: 0.7017 - val_accuracy: 0.6000\n",
            "Epoch 109/300\n",
            "3/3 [==============================] - 5s 2s/step - loss: 0.2189 - accuracy: 0.9375 - val_loss: 0.4519 - val_accuracy: 0.8000\n",
            "Epoch 110/300\n",
            "3/3 [==============================] - 6s 2s/step - loss: 0.2233 - accuracy: 0.9143 - val_loss: 0.6578 - val_accuracy: 0.7143\n",
            "Epoch 111/300\n",
            "3/3 [==============================] - 5s 2s/step - loss: 0.2120 - accuracy: 0.9048 - val_loss: 0.6611 - val_accuracy: 0.7143\n",
            "Epoch 112/300\n",
            "3/3 [==============================] - 5s 2s/step - loss: 0.1598 - accuracy: 0.9625 - val_loss: 0.6582 - val_accuracy: 0.6857\n",
            "Epoch 113/300\n",
            "3/3 [==============================] - 6s 3s/step - loss: 0.1809 - accuracy: 0.9333 - val_loss: 0.5501 - val_accuracy: 0.7429\n",
            "Epoch 114/300\n",
            "3/3 [==============================] - 6s 2s/step - loss: 0.2407 - accuracy: 0.9238 - val_loss: 0.8388 - val_accuracy: 0.6857\n",
            "Epoch 115/300\n",
            "3/3 [==============================] - 5s 2s/step - loss: 0.1745 - accuracy: 0.9375 - val_loss: 0.8444 - val_accuracy: 0.6571\n",
            "Epoch 116/300\n",
            "3/3 [==============================] - 6s 3s/step - loss: 0.2147 - accuracy: 0.9048 - val_loss: 0.7740 - val_accuracy: 0.7429\n",
            "Epoch 117/300\n",
            "3/3 [==============================] - 6s 2s/step - loss: 0.2098 - accuracy: 0.9333 - val_loss: 0.3629 - val_accuracy: 0.8000\n",
            "Epoch 118/300\n",
            "3/3 [==============================] - 6s 2s/step - loss: 0.2136 - accuracy: 0.9429 - val_loss: 0.7000 - val_accuracy: 0.7429\n",
            "Epoch 119/300\n",
            "3/3 [==============================] - 6s 3s/step - loss: 0.2872 - accuracy: 0.9048 - val_loss: 0.4662 - val_accuracy: 0.7714\n",
            "Epoch 120/300\n",
            "3/3 [==============================] - 8s 3s/step - loss: 0.2195 - accuracy: 0.9048 - val_loss: 1.0665 - val_accuracy: 0.5714\n",
            "Epoch 121/300\n",
            "3/3 [==============================] - 6s 3s/step - loss: 0.2095 - accuracy: 0.9333 - val_loss: 0.4706 - val_accuracy: 0.8286\n",
            "Epoch 122/300\n",
            "3/3 [==============================] - 5s 2s/step - loss: 0.2774 - accuracy: 0.8750 - val_loss: 0.6789 - val_accuracy: 0.7143\n",
            "Epoch 123/300\n",
            "3/3 [==============================] - 6s 2s/step - loss: 0.1634 - accuracy: 0.9333 - val_loss: 0.5952 - val_accuracy: 0.7429\n",
            "Epoch 124/300\n",
            "3/3 [==============================] - 6s 2s/step - loss: 0.3034 - accuracy: 0.8857 - val_loss: 0.4786 - val_accuracy: 0.8000\n",
            "Epoch 125/300\n",
            "3/3 [==============================] - 6s 2s/step - loss: 0.2462 - accuracy: 0.8857 - val_loss: 0.4446 - val_accuracy: 0.8000\n",
            "Epoch 126/300\n",
            "3/3 [==============================] - 6s 2s/step - loss: 0.1534 - accuracy: 0.9619 - val_loss: 0.7864 - val_accuracy: 0.6286\n",
            "Epoch 127/300\n",
            "3/3 [==============================] - 6s 2s/step - loss: 0.1416 - accuracy: 0.9810 - val_loss: 0.5866 - val_accuracy: 0.7143\n",
            "Epoch 128/300\n",
            "3/3 [==============================] - 6s 2s/step - loss: 0.1497 - accuracy: 0.9524 - val_loss: 0.6204 - val_accuracy: 0.7714\n",
            "Epoch 129/300\n",
            "3/3 [==============================] - 6s 2s/step - loss: 0.1920 - accuracy: 0.9429 - val_loss: 0.7550 - val_accuracy: 0.6286\n",
            "Epoch 130/300\n",
            "3/3 [==============================] - 6s 2s/step - loss: 0.2333 - accuracy: 0.9238 - val_loss: 0.7936 - val_accuracy: 0.7143\n",
            "Epoch 131/300\n",
            "3/3 [==============================] - 6s 2s/step - loss: 0.1704 - accuracy: 0.9429 - val_loss: 0.4400 - val_accuracy: 0.8000\n",
            "Epoch 132/300\n",
            "3/3 [==============================] - 6s 2s/step - loss: 0.2129 - accuracy: 0.9238 - val_loss: 0.5128 - val_accuracy: 0.7714\n",
            "Epoch 133/300\n",
            "3/3 [==============================] - 6s 2s/step - loss: 0.1808 - accuracy: 0.9429 - val_loss: 0.5119 - val_accuracy: 0.7429\n",
            "Epoch 134/300\n",
            "3/3 [==============================] - 6s 2s/step - loss: 0.2367 - accuracy: 0.9143 - val_loss: 0.4867 - val_accuracy: 0.7143\n",
            "Epoch 135/300\n",
            "3/3 [==============================] - 5s 2s/step - loss: 0.1537 - accuracy: 0.9500 - val_loss: 0.8775 - val_accuracy: 0.6286\n",
            "Epoch 136/300\n",
            "3/3 [==============================] - 6s 2s/step - loss: 0.2046 - accuracy: 0.9143 - val_loss: 0.5655 - val_accuracy: 0.7429\n",
            "Epoch 137/300\n",
            "3/3 [==============================] - 6s 3s/step - loss: 0.1962 - accuracy: 0.9143 - val_loss: 0.7189 - val_accuracy: 0.7143\n",
            "Epoch 138/300\n",
            "3/3 [==============================] - 5s 2s/step - loss: 0.2202 - accuracy: 0.9250 - val_loss: 0.4757 - val_accuracy: 0.7714\n",
            "Epoch 139/300\n",
            "3/3 [==============================] - 5s 3s/step - loss: 0.2512 - accuracy: 0.9375 - val_loss: 0.7595 - val_accuracy: 0.7429\n",
            "Epoch 140/300\n",
            "3/3 [==============================] - 5s 2s/step - loss: 0.3012 - accuracy: 0.8250 - val_loss: 0.7244 - val_accuracy: 0.7429\n",
            "Epoch 141/300\n",
            "3/3 [==============================] - 6s 2s/step - loss: 0.2031 - accuracy: 0.9524 - val_loss: 0.6958 - val_accuracy: 0.7143\n",
            "Epoch 142/300\n",
            "3/3 [==============================] - 5s 2s/step - loss: 0.1900 - accuracy: 0.9500 - val_loss: 0.3970 - val_accuracy: 0.8286\n",
            "Epoch 143/300\n",
            "3/3 [==============================] - 6s 3s/step - loss: 0.2072 - accuracy: 0.9238 - val_loss: 0.8378 - val_accuracy: 0.6286\n",
            "Epoch 144/300\n",
            "3/3 [==============================] - 7s 3s/step - loss: 0.2682 - accuracy: 0.8952 - val_loss: 0.4414 - val_accuracy: 0.8286\n",
            "Epoch 145/300\n",
            "3/3 [==============================] - 6s 2s/step - loss: 0.1537 - accuracy: 0.9429 - val_loss: 0.5528 - val_accuracy: 0.7143\n",
            "Epoch 146/300\n",
            "3/3 [==============================] - 6s 3s/step - loss: 0.1830 - accuracy: 0.9333 - val_loss: 0.3969 - val_accuracy: 0.7714\n",
            "Epoch 147/300\n",
            "3/3 [==============================] - ETA: 0s - loss: 0.0955 - accuracy: 0.9905\n",
            "Reached 99% accuracy so cancelling training!\n",
            "3/3 [==============================] - 6s 2s/step - loss: 0.0955 - accuracy: 0.9905 - val_loss: 0.6141 - val_accuracy: 0.8000\n"
          ]
        }
      ]
    },
    {
      "cell_type": "code",
      "source": [
        "\n",
        "print('-----------------------------------------------------------------------------------------------------------------------------------------------------------------')\n",
        "\n",
        "print(f'Training Score : {model.metrics_names[0]} of {scores[0]}; {model.metrics_names[1]} of {scores[1]*100}%;  \\n' )\n",
        "\n",
        "print(f'Validation Score: {model.metrics_names[0]} of {results[0]}; validation {model.metrics_names[1]} of {results[1]*100}%;  \\n' )\n",
        "\n",
        "print(f'Test Score: test {model.metrics_names[0]} of {test_results[0]}; test {model.metrics_names[1]} of {test_results[1]*100}%;  \\n' )\n",
        "\n",
        "print(f' Best Accuracy: {best_acc*100}%;  Best Loss: {best_loss}; Best Val_Accuracy: {best_val_acc*100}%; Best Val_Loss: {best_val_loss} \\n' )\n",
        "\n",
        "\n",
        "print('-----------------------------------------------------------------------------------------------------------------------------------------------------------------')"
      ],
      "metadata": {
        "colab": {
          "base_uri": "https://localhost:8080/"
        },
        "id": "E9490nMl7dNN",
        "outputId": "2019f13c-37fd-4e8a-daca-e58471445dde"
      },
      "execution_count": null,
      "outputs": [
        {
          "output_type": "stream",
          "name": "stdout",
          "text": [
            "-----------------------------------------------------------------------------------------------------------------------------------------------------------------\n",
            "Training Score : loss of 0.1774672567844391; accuracy of 93.80281567573547%;  \n",
            "\n",
            "Validation Score: loss of 0.6163803935050964; validation accuracy of 72.14285731315613%;  \n",
            "\n",
            "Test Score: test loss of 0.6864001154899597; test accuracy of 75.42372941970825%;  \n",
            "\n",
            " Best Accuracy: 99.04761910438538%;  Best Loss: 0.09554336220026016; Best Val_Accuracy: 88.57142925262451%; Best Val_Loss: 0.2825929820537567 \n",
            "\n",
            "-----------------------------------------------------------------------------------------------------------------------------------------------------------------\n"
          ]
        }
      ]
    },
    {
      "cell_type": "code",
      "source": [
        "\n",
        "plt.plot(kh.history['accuracy'])\n",
        "plt.plot(kh.history['val_accuracy'])\n",
        "plt.title('Training and Validation Accuracies')\n",
        "plt.ylabel('Accuracy')\n",
        "plt.xlabel('Epoch')\n",
        "plt.legend(['Training', 'Validation'], loc = 'upper left')\n",
        "plt.show()"
      ],
      "metadata": {
        "colab": {
          "base_uri": "https://localhost:8080/",
          "height": 295
        },
        "id": "J6BZIQnN7dRv",
        "outputId": "c5fefcb8-beda-4a9b-916c-563fcd4b820e"
      },
      "execution_count": null,
      "outputs": [
        {
          "output_type": "display_data",
          "data": {
            "text/plain": [
              "<Figure size 432x288 with 1 Axes>"
            ],
            "image/png": "[encoded data removed]"
          },
          "metadata": {
            "needs_background": "light"
          }
        }
      ]
    },
    {
      "cell_type": "code",
      "source": [
        "\n",
        "plt.plot(kh.history['loss'])\n",
        "plt.plot(kh.history['val_loss'])\n",
        "plt.title('Training and Validation Losses')\n",
        "plt.ylabel('Losses')\n",
        "plt.xlabel('Epoch')\n",
        "plt.legend(['Training', 'Validation'], loc = 'upper left')\n",
        "plt.show()"
      ],
      "metadata": {
        "colab": {
          "base_uri": "https://localhost:8080/",
          "height": 295
        },
        "id": "G72Rc-pVWU2f",
        "outputId": "b9f91365-1880-429f-e664-74966d1f338e"
      },
      "execution_count": null,
      "outputs": [
        {
          "output_type": "display_data",
          "data": {
            "text/plain": [
              "<Figure size 432x288 with 1 Axes>"
            ],
            "image/png": "[encoded data removed]"
          },
          "metadata": {
            "needs_background": "light"
          }
        }
      ]
    },
    {
      "cell_type": "code",
      "source": [
        "_, acc = model.evaluate(test_generator)\n",
        "print(acc)\n"
      ],
      "metadata": {
        "colab": {
          "base_uri": "https://localhost:8080/"
        },
        "id": "YETTcYo0WU8e",
        "outputId": "f0d03b76-daa1-4d1d-dd09-45abe5de5bc2"
      },
      "execution_count": null,
      "outputs": [
        {
          "output_type": "stream",
          "name": "stdout",
          "text": [
            "7/7 [==============================] - 5s 646ms/step - loss: 0.6864 - accuracy: 0.7542\n",
            "0.7542372941970825\n"
          ]
        }
      ]
    },
    {
      "cell_type": "code",
      "source": [
        "_, acc = model.evaluate(validation_generator)\n",
        "print(acc)"
      ],
      "metadata": {
        "colab": {
          "base_uri": "https://localhost:8080/"
        },
        "id": "eD4g_Tb6WVBo",
        "outputId": "12fcc624-9d64-4f2b-cc4b-aa63842a1914"
      },
      "execution_count": null,
      "outputs": [
        {
          "output_type": "stream",
          "name": "stdout",
          "text": [
            "4/4 [==============================] - 6s 2s/step - loss: 0.6247 - accuracy: 0.7429\n",
            "0.7428571581840515\n"
          ]
        }
      ]
    },
    {
      "cell_type": "code",
      "source": [
        "from tensorflow.keras.metrics import Precision, Recall, BinaryAccuracy\n",
        "\n",
        "pre = Precision()\n",
        "re = Recall()\n",
        "acc = BinaryAccuracy()\n",
        "\n",
        "for batch in validation:\n",
        "  X,y = validation\n",
        "  yhat = model.predict(X)\n",
        "  pre.update_state(y, yhat)\n",
        "  re.update_state(y, yhat)\n",
        "  acc.update_state(y, yhat)\n",
        "\n",
        "f1_score = (2 * pre.result().numpy() * re.result())/(pre.result().numpy() + re.result())\n",
        "\n",
        "print('For Validation: ')\n",
        "print(f'Precision: {pre.result().numpy()}, Recall: {re.result().numpy()}, Accuracy: {acc.result().numpy()}, F1 Score: {f1_score}')\n",
        "\n"
      ],
      "metadata": {
        "colab": {
          "base_uri": "https://localhost:8080/"
        },
        "id": "UYLi3YLT7dgH",
        "outputId": "8fdb476d-cf95-4460-bd71-d245ead255f3"
      },
      "execution_count": null,
      "outputs": [
        {
          "output_type": "stream",
          "name": "stdout",
          "text": [
            "For Validation: \n",
            "Precision: 0.8125, Recall: 0.6842105388641357, Accuracy: 0.7428571581840515, F1 Score: 0.7428571581840515\n"
          ]
        }
      ]
    },
    {
      "cell_type": "code",
      "source": [
        "from tensorflow.keras.metrics import Precision, Recall, BinaryAccuracy\n",
        "\n",
        "pre = Precision()\n",
        "re = Recall()\n",
        "acc = BinaryAccuracy()\n",
        "\n",
        "for batch in test:\n",
        "  X,y = test\n",
        "  yhat = model.predict(X)\n",
        "  pre.update_state(y, yhat)\n",
        "  re.update_state(y, yhat)\n",
        "  acc.update_state(y, yhat)\n",
        "\n",
        "f1_score = (2 * pre.result().numpy() * re.result())/(pre.result().numpy() + re.result())\n",
        "\n",
        "print('For Validation: ')\n",
        "print(f'Precision: {pre.result().numpy()}, Recall: {re.result().numpy()}, Accuracy: {acc.result().numpy()}, F1 Score: {f1_score}')\n"
      ],
      "metadata": {
        "colab": {
          "base_uri": "https://localhost:8080/"
        },
        "id": "Lzz3mtivWqB2",
        "outputId": "b35203e6-0fe3-48a4-9019-7346b2130005"
      },
      "execution_count": null,
      "outputs": [
        {
          "output_type": "stream",
          "name": "stdout",
          "text": [
            "For Validation: \n",
            "Precision: 1.0, Recall: 0.8461538553237915, Accuracy: 0.9230769276618958, F1 Score: 0.9166666865348816\n"
          ]
        }
      ]
    },
    {
      "cell_type": "code",
      "source": [
        "pred = model.predict(validation_generator)\n",
        "test_pred = model.predict(test_generator)\n",
        "\n",
        "#pred = model.predict( test_generator )\n",
        "\n",
        "print(\"validation predictions:\\n\")\n",
        "\n",
        "def countpredictions(predictions, gw = 0, ngw = 0):\n",
        "  for pred in predictions:\n",
        "    if pred > 0.5:\n",
        "      ngw += 1\n",
        "    else:\n",
        "      gw += 1\n",
        "  return gw, ngw\n",
        "\n",
        "print(countpredictions(pred, 0, 0))\n",
        "\n",
        "print(\"\\ntest predictions:\\n\")\n",
        "\n",
        "def countpredictions(predictions, gw = 0, ngw = 0):\n",
        "  for test_pred in predictions:\n",
        "    if test_pred > 0.5:\n",
        "      ngw += 1\n",
        "    else:\n",
        "      gw += 1\n",
        "  return gw, ngw\n",
        "\n",
        "print(countpredictions(test_pred, 0, 0))\n"
      ],
      "metadata": {
        "colab": {
          "base_uri": "https://localhost:8080/"
        },
        "id": "1M9nNTs-WqHf",
        "outputId": "9a4a7475-6b01-4f7f-b6b1-64cd20a640b5"
      },
      "execution_count": null,
      "outputs": [
        {
          "output_type": "stream",
          "name": "stdout",
          "text": [
            "validation predictions:\n",
            "\n",
            "(79, 61)\n",
            "\n",
            "test predictions:\n",
            "\n",
            "(135, 101)\n"
          ]
        }
      ]
    },
    {
      "cell_type": "code",
      "source": [
        "import sklearn.metrics as metrics\n",
        "\n",
        "\n",
        "\n",
        "print(\"Confusion Matrix: \\n\")\n",
        "true_classes = validation_generator.classes\n",
        "class_labels = list(validation_generator.class_indices.keys())\n",
        "pred = np.round(pred)\n",
        "confusion_matrix = metrics.confusion_matrix(y_true=true_classes, y_pred=pred)\n",
        "confusion_matrix\n",
        "\n",
        "#true positives, false negatives\n",
        "#false positives, tru negatives"
      ],
      "metadata": {
        "colab": {
          "base_uri": "https://localhost:8080/"
        },
        "id": "CdEORBtVWqMK",
        "outputId": "d6d2d59f-efb1-4c84-c55d-49b102bc2b03"
      },
      "execution_count": null,
      "outputs": [
        {
          "output_type": "stream",
          "name": "stdout",
          "text": [
            "Confusion Matrix: \n",
            "\n"
          ]
        },
        {
          "output_type": "execute_result",
          "data": {
            "text/plain": [
              "array([[41, 29],\n",
              "       [38, 32]])"
            ]
          },
          "metadata": {},
          "execution_count": 26
        }
      ]
    },
    {
      "cell_type": "code",
      "source": [
        ""
      ],
      "metadata": {
        "id": "B_rycbOoZcHa"
      },
      "execution_count": null,
      "outputs": []
    }
  ],
  "metadata": {
    "accelerator": "GPU",
    "colab": {
      "collapsed_sections": [],
      "name": "Custom Model  without LRScheduler - Jorge",
      "provenance": [],
      "include_colab_link": true
    },
    "gpuClass": "standard",
    "kernelspec": {
      "display_name": "Python 3",
      "name": "python3"
    },
    "language_info": {
      "name": "python"
    }
  },
  "nbformat": 4,
  "nbformat_minor": 0
}